{
 "cells": [
  {
   "cell_type": "markdown",
   "id": "64f00f6d",
   "metadata": {
    "papermill": {
     "duration": 0.007871,
     "end_time": "2022-10-14T14:23:32.085467",
     "exception": false,
     "start_time": "2022-10-14T14:23:32.077596",
     "status": "completed"
    },
    "tags": []
   },
   "source": [
    "# Contents\n",
    "Thank you for viewing this notebook.\n",
    "Using WM-811K dataset, I will try image retrieval task. This notebook aims to implement the code with `PyTorch Metric Learning` library. This offers us the easiest way to build metric learning model and image search methods. \n",
    "\n",
    "You will find the simple and effective implementation!\n",
    "\n",
    "### Preprocess(minimum)\n",
    "WM-811K dataset containes the number of 811K data. However, there are only 25K data with specified labels. I will extract these with some other prerprocessing as well.\n",
    "\n",
    "### Model, Dataset class definition\n",
    "- Model: The most simple convnet with triplet loss\n",
    "- Dataset: It returns X(torch.Tensor) and y(int). Yes, this is a kind of supervised learning.\n",
    "\n",
    "### Train\n",
    "With `trainer` API, I simply executed model training in metric learning way.\n",
    "\n",
    "### Inference\n",
    "- image retrieval with nearest neighbor search\n",
    "\n",
    "### Some experiments"
   ]
  },
  {
   "cell_type": "code",
   "execution_count": 1,
   "id": "07d66d9b",
   "metadata": {
    "_cell_guid": "b1076dfc-b9ad-4769-8c92-a6c4dae69d19",
    "_uuid": "8f2839f25d086af736a60e9eeb907d3b93b6e0e5",
    "execution": {
     "iopub.execute_input": "2022-10-14T14:23:32.103814Z",
     "iopub.status.busy": "2022-10-14T14:23:32.103248Z",
     "iopub.status.idle": "2022-10-14T14:23:32.130716Z",
     "shell.execute_reply": "2022-10-14T14:23:32.129728Z"
    },
    "papermill": {
     "duration": 0.040734,
     "end_time": "2022-10-14T14:23:32.133040",
     "exception": false,
     "start_time": "2022-10-14T14:23:32.092306",
     "status": "completed"
    },
    "tags": []
   },
   "outputs": [
    {
     "name": "stdout",
     "output_type": "stream",
     "text": [
      "/kaggle/input/wm811k-wafer-map/LSWMD.pkl\n"
     ]
    }
   ],
   "source": [
    "# This Python 3 environment comes with many helpful analytics libraries installed\n",
    "# It is defined by the kaggle/python Docker image: https://github.com/kaggle/docker-python\n",
    "# For example, here's several helpful packages to load\n",
    "\n",
    "import numpy as np # linear algebra\n",
    "import pandas as pd # data processing, CSV file I/O (e.g. pd.read_csv)\n",
    "\n",
    "# Input data files are available in the read-only \"../input/\" directory\n",
    "# For example, running this (by clicking run or pressing Shift+Enter) will list all files under the input directory\n",
    "\n",
    "import os\n",
    "for dirname, _, filenames in os.walk('/kaggle/input'):\n",
    "    for filename in filenames:\n",
    "        print(os.path.join(dirname, filename))\n",
    "\n",
    "# You can write up to 20GB to the current directory (/kaggle/working/) that gets preserved as output when you create a version using \"Save & Run All\" \n",
    "# You can also write temporary files to /kaggle/temp/, but they won't be saved outside of the current session"
   ]
  },
  {
   "cell_type": "markdown",
   "id": "e82c02dd",
   "metadata": {
    "papermill": {
     "duration": 0.006456,
     "end_time": "2022-10-14T14:23:32.146333",
     "exception": false,
     "start_time": "2022-10-14T14:23:32.139877",
     "status": "completed"
    },
    "tags": []
   },
   "source": [
    "It's ok when you see the message,`/kaggle/input/wm811k-wafer-map/LSWMD.pkl`.  \n",
    "\n",
    "上記実行後、`/kaggle/input/wm811k-wafer-map/LSWMD.pkl`と表記が出ればok\n",
    "\n",
    "# Preprocessing, 前処理"
   ]
  },
  {
   "cell_type": "code",
   "execution_count": 2,
   "id": "2ff6746f",
   "metadata": {
    "execution": {
     "iopub.execute_input": "2022-10-14T14:23:32.161832Z",
     "iopub.status.busy": "2022-10-14T14:23:32.160393Z",
     "iopub.status.idle": "2022-10-14T14:23:32.898853Z",
     "shell.execute_reply": "2022-10-14T14:23:32.897358Z"
    },
    "papermill": {
     "duration": 0.748104,
     "end_time": "2022-10-14T14:23:32.901044",
     "exception": false,
     "start_time": "2022-10-14T14:23:32.152940",
     "status": "completed"
    },
    "tags": []
   },
   "outputs": [
    {
     "name": "stdout",
     "output_type": "stream",
     "text": [
      "['wm811k-wafer-map']\n"
     ]
    }
   ],
   "source": [
    "import os\n",
    "import warnings\n",
    "from pathlib import Path\n",
    "import json\n",
    "import numpy as np\n",
    "import pandas as pd\n",
    "import matplotlib.pyplot as plt\n",
    "from sklearn.model_selection import train_test_split\n",
    "print(os.listdir(\"../input\"))\n",
    "warnings.filterwarnings(\"ignore\")"
   ]
  },
  {
   "cell_type": "code",
   "execution_count": 3,
   "id": "9355902e",
   "metadata": {
    "execution": {
     "iopub.execute_input": "2022-10-14T14:23:32.917197Z",
     "iopub.status.busy": "2022-10-14T14:23:32.915801Z",
     "iopub.status.idle": "2022-10-14T14:25:02.160944Z",
     "shell.execute_reply": "2022-10-14T14:25:02.160025Z"
    },
    "papermill": {
     "duration": 89.26308,
     "end_time": "2022-10-14T14:25:02.171116",
     "exception": false,
     "start_time": "2022-10-14T14:23:32.908036",
     "status": "completed"
    },
    "tags": []
   },
   "outputs": [
    {
     "name": "stdout",
     "output_type": "stream",
     "text": [
      "<class 'pandas.core.frame.DataFrame'>\n",
      "RangeIndex: 811457 entries, 0 to 811456\n",
      "Data columns (total 6 columns):\n",
      " #   Column          Non-Null Count   Dtype  \n",
      "---  ------          --------------   -----  \n",
      " 0   waferMap        811457 non-null  object \n",
      " 1   dieSize         811457 non-null  float64\n",
      " 2   lotName         811457 non-null  object \n",
      " 3   waferIndex      811457 non-null  float64\n",
      " 4   trianTestLabel  811457 non-null  object \n",
      " 5   failureType     811457 non-null  object \n",
      "dtypes: float64(2), object(4)\n",
      "memory usage: 37.1+ MB\n",
      "None\n"
     ]
    },
    {
     "data": {
      "text/html": [
       "<div>\n",
       "<style scoped>\n",
       "    .dataframe tbody tr th:only-of-type {\n",
       "        vertical-align: middle;\n",
       "    }\n",
       "\n",
       "    .dataframe tbody tr th {\n",
       "        vertical-align: top;\n",
       "    }\n",
       "\n",
       "    .dataframe thead th {\n",
       "        text-align: right;\n",
       "    }\n",
       "</style>\n",
       "<table border=\"1\" class=\"dataframe\">\n",
       "  <thead>\n",
       "    <tr style=\"text-align: right;\">\n",
       "      <th></th>\n",
       "      <th>waferMap</th>\n",
       "      <th>dieSize</th>\n",
       "      <th>lotName</th>\n",
       "      <th>waferIndex</th>\n",
       "      <th>trianTestLabel</th>\n",
       "      <th>failureType</th>\n",
       "    </tr>\n",
       "  </thead>\n",
       "  <tbody>\n",
       "    <tr>\n",
       "      <th>0</th>\n",
       "      <td>[[0, 0, 0, 0, 0, 0, 0, 0, 0, 0, 0, 0, 0, 0, 0,...</td>\n",
       "      <td>1683.0</td>\n",
       "      <td>lot1</td>\n",
       "      <td>1.0</td>\n",
       "      <td>[[Training]]</td>\n",
       "      <td>[[none]]</td>\n",
       "    </tr>\n",
       "    <tr>\n",
       "      <th>1</th>\n",
       "      <td>[[0, 0, 0, 0, 0, 0, 0, 0, 0, 0, 0, 0, 0, 0, 0,...</td>\n",
       "      <td>1683.0</td>\n",
       "      <td>lot1</td>\n",
       "      <td>2.0</td>\n",
       "      <td>[[Training]]</td>\n",
       "      <td>[[none]]</td>\n",
       "    </tr>\n",
       "    <tr>\n",
       "      <th>2</th>\n",
       "      <td>[[0, 0, 0, 0, 0, 0, 0, 0, 0, 0, 0, 0, 0, 0, 0,...</td>\n",
       "      <td>1683.0</td>\n",
       "      <td>lot1</td>\n",
       "      <td>3.0</td>\n",
       "      <td>[[Training]]</td>\n",
       "      <td>[[none]]</td>\n",
       "    </tr>\n",
       "  </tbody>\n",
       "</table>\n",
       "</div>"
      ],
      "text/plain": [
       "                                            waferMap  dieSize lotName  \\\n",
       "0  [[0, 0, 0, 0, 0, 0, 0, 0, 0, 0, 0, 0, 0, 0, 0,...   1683.0    lot1   \n",
       "1  [[0, 0, 0, 0, 0, 0, 0, 0, 0, 0, 0, 0, 0, 0, 0,...   1683.0    lot1   \n",
       "2  [[0, 0, 0, 0, 0, 0, 0, 0, 0, 0, 0, 0, 0, 0, 0,...   1683.0    lot1   \n",
       "\n",
       "   waferIndex trianTestLabel failureType  \n",
       "0         1.0   [[Training]]    [[none]]  \n",
       "1         2.0   [[Training]]    [[none]]  \n",
       "2         3.0   [[Training]]    [[none]]  "
      ]
     },
     "metadata": {},
     "output_type": "display_data"
    }
   ],
   "source": [
    "# It takes around 2 minutes on Kaggle notebook.\n",
    "df = pd.read_pickle(\"../input/wm811k-wafer-map/LSWMD.pkl\")\n",
    "print(df.info())\n",
    "display(df.head(3))"
   ]
  },
  {
   "cell_type": "code",
   "execution_count": 4,
   "id": "131e292f",
   "metadata": {
    "execution": {
     "iopub.execute_input": "2022-10-14T14:25:02.187160Z",
     "iopub.status.busy": "2022-10-14T14:25:02.186862Z",
     "iopub.status.idle": "2022-10-14T14:25:10.001309Z",
     "shell.execute_reply": "2022-10-14T14:25:10.000244Z"
    },
    "papermill": {
     "duration": 7.824805,
     "end_time": "2022-10-14T14:25:10.003386",
     "exception": false,
     "start_time": "2022-10-14T14:25:02.178581",
     "status": "completed"
    },
    "tags": []
   },
   "outputs": [
    {
     "data": {
      "text/html": [
       "<div>\n",
       "<style scoped>\n",
       "    .dataframe tbody tr th:only-of-type {\n",
       "        vertical-align: middle;\n",
       "    }\n",
       "\n",
       "    .dataframe tbody tr th {\n",
       "        vertical-align: top;\n",
       "    }\n",
       "\n",
       "    .dataframe thead th {\n",
       "        text-align: right;\n",
       "    }\n",
       "</style>\n",
       "<table border=\"1\" class=\"dataframe\">\n",
       "  <thead>\n",
       "    <tr style=\"text-align: right;\">\n",
       "      <th></th>\n",
       "      <th>waferMap</th>\n",
       "      <th>dieSize</th>\n",
       "      <th>lotName</th>\n",
       "      <th>waferIndex</th>\n",
       "      <th>trianTestLabel</th>\n",
       "      <th>failureType</th>\n",
       "    </tr>\n",
       "  </thead>\n",
       "  <tbody>\n",
       "    <tr>\n",
       "      <th>0</th>\n",
       "      <td>[[0, 0, 0, 0, 0, 0, 0, 0, 0, 0, 0, 0, 0, 0, 0,...</td>\n",
       "      <td>1683.0</td>\n",
       "      <td>lot1</td>\n",
       "      <td>1.0</td>\n",
       "      <td>Training</td>\n",
       "      <td>none</td>\n",
       "    </tr>\n",
       "    <tr>\n",
       "      <th>1</th>\n",
       "      <td>[[0, 0, 0, 0, 0, 0, 0, 0, 0, 0, 0, 0, 0, 0, 0,...</td>\n",
       "      <td>1683.0</td>\n",
       "      <td>lot1</td>\n",
       "      <td>2.0</td>\n",
       "      <td>Training</td>\n",
       "      <td>none</td>\n",
       "    </tr>\n",
       "    <tr>\n",
       "      <th>2</th>\n",
       "      <td>[[0, 0, 0, 0, 0, 0, 0, 0, 0, 0, 0, 0, 0, 0, 0,...</td>\n",
       "      <td>1683.0</td>\n",
       "      <td>lot1</td>\n",
       "      <td>3.0</td>\n",
       "      <td>Training</td>\n",
       "      <td>none</td>\n",
       "    </tr>\n",
       "    <tr>\n",
       "      <th>3</th>\n",
       "      <td>[[0, 0, 0, 0, 0, 0, 0, 0, 0, 0, 0, 0, 0, 0, 0,...</td>\n",
       "      <td>1683.0</td>\n",
       "      <td>lot1</td>\n",
       "      <td>4.0</td>\n",
       "      <td>Training</td>\n",
       "      <td>none</td>\n",
       "    </tr>\n",
       "    <tr>\n",
       "      <th>4</th>\n",
       "      <td>[[0, 0, 0, 0, 0, 0, 0, 0, 0, 0, 0, 0, 0, 0, 0,...</td>\n",
       "      <td>1683.0</td>\n",
       "      <td>lot1</td>\n",
       "      <td>5.0</td>\n",
       "      <td>Training</td>\n",
       "      <td>none</td>\n",
       "    </tr>\n",
       "  </tbody>\n",
       "</table>\n",
       "</div>"
      ],
      "text/plain": [
       "                                            waferMap  dieSize lotName  \\\n",
       "0  [[0, 0, 0, 0, 0, 0, 0, 0, 0, 0, 0, 0, 0, 0, 0,...   1683.0    lot1   \n",
       "1  [[0, 0, 0, 0, 0, 0, 0, 0, 0, 0, 0, 0, 0, 0, 0,...   1683.0    lot1   \n",
       "2  [[0, 0, 0, 0, 0, 0, 0, 0, 0, 0, 0, 0, 0, 0, 0,...   1683.0    lot1   \n",
       "3  [[0, 0, 0, 0, 0, 0, 0, 0, 0, 0, 0, 0, 0, 0, 0,...   1683.0    lot1   \n",
       "4  [[0, 0, 0, 0, 0, 0, 0, 0, 0, 0, 0, 0, 0, 0, 0,...   1683.0    lot1   \n",
       "\n",
       "   waferIndex trianTestLabel failureType  \n",
       "0         1.0       Training        none  \n",
       "1         2.0       Training        none  \n",
       "2         3.0       Training        none  \n",
       "3         4.0       Training        none  \n",
       "4         5.0       Training        none  "
      ]
     },
     "execution_count": 4,
     "metadata": {},
     "output_type": "execute_result"
    }
   ],
   "source": [
    "# label extraction  e.g.)[Loc] → Loc　 @failureType, trianTestLabel column\n",
    "f_squeeze = lambda x: str(np.squeeze(x))\n",
    "df[\"failureType\"] = df[\"failureType\"].map(f_squeeze)\n",
    "df[\"trianTestLabel\"] = df[\"trianTestLabel\"].map(f_squeeze)\n",
    "df.head()"
   ]
  },
  {
   "cell_type": "code",
   "execution_count": 5,
   "id": "155e5163",
   "metadata": {
    "execution": {
     "iopub.execute_input": "2022-10-14T14:25:10.020696Z",
     "iopub.status.busy": "2022-10-14T14:25:10.020067Z",
     "iopub.status.idle": "2022-10-14T14:25:10.163925Z",
     "shell.execute_reply": "2022-10-14T14:25:10.162801Z"
    },
    "papermill": {
     "duration": 0.156618,
     "end_time": "2022-10-14T14:25:10.168620",
     "exception": false,
     "start_time": "2022-10-14T14:25:10.012002",
     "status": "completed"
    },
    "tags": []
   },
   "outputs": [
    {
     "name": "stdout",
     "output_type": "stream",
     "text": [
      "25519\n",
      "Label list:  ['Loc' 'Edge-Loc' 'Center' 'Edge-Ring' 'Scratch' 'Random' 'Near-full'\n",
      " 'Donut']\n"
     ]
    },
    {
     "data": {
      "text/html": [
       "<div>\n",
       "<style scoped>\n",
       "    .dataframe tbody tr th:only-of-type {\n",
       "        vertical-align: middle;\n",
       "    }\n",
       "\n",
       "    .dataframe tbody tr th {\n",
       "        vertical-align: top;\n",
       "    }\n",
       "\n",
       "    .dataframe thead th {\n",
       "        text-align: right;\n",
       "    }\n",
       "</style>\n",
       "<table border=\"1\" class=\"dataframe\">\n",
       "  <thead>\n",
       "    <tr style=\"text-align: right;\">\n",
       "      <th></th>\n",
       "      <th>waferMap</th>\n",
       "      <th>dieSize</th>\n",
       "      <th>lotName</th>\n",
       "      <th>waferIndex</th>\n",
       "      <th>trianTestLabel</th>\n",
       "      <th>failureType</th>\n",
       "    </tr>\n",
       "  </thead>\n",
       "  <tbody>\n",
       "    <tr>\n",
       "      <th>19</th>\n",
       "      <td>[[0, 0, 0, 0, 0, 0, 0, 0, 0, 0, 0, 0, 0, 0, 0,...</td>\n",
       "      <td>1683.0</td>\n",
       "      <td>lot1</td>\n",
       "      <td>20.0</td>\n",
       "      <td>Training</td>\n",
       "      <td>Loc</td>\n",
       "    </tr>\n",
       "    <tr>\n",
       "      <th>36</th>\n",
       "      <td>[[0, 0, 0, 0, 0, 0, 0, 0, 0, 0, 0, 0, 0, 0, 0,...</td>\n",
       "      <td>2460.0</td>\n",
       "      <td>lot2</td>\n",
       "      <td>12.0</td>\n",
       "      <td>Training</td>\n",
       "      <td>Edge-Loc</td>\n",
       "    </tr>\n",
       "    <tr>\n",
       "      <th>37</th>\n",
       "      <td>[[0, 0, 0, 0, 0, 0, 0, 0, 0, 0, 0, 0, 0, 0, 0,...</td>\n",
       "      <td>2460.0</td>\n",
       "      <td>lot2</td>\n",
       "      <td>13.0</td>\n",
       "      <td>Training</td>\n",
       "      <td>Edge-Loc</td>\n",
       "    </tr>\n",
       "  </tbody>\n",
       "</table>\n",
       "</div>"
      ],
      "text/plain": [
       "                                             waferMap  dieSize lotName  \\\n",
       "19  [[0, 0, 0, 0, 0, 0, 0, 0, 0, 0, 0, 0, 0, 0, 0,...   1683.0    lot1   \n",
       "36  [[0, 0, 0, 0, 0, 0, 0, 0, 0, 0, 0, 0, 0, 0, 0,...   2460.0    lot2   \n",
       "37  [[0, 0, 0, 0, 0, 0, 0, 0, 0, 0, 0, 0, 0, 0, 0,...   2460.0    lot2   \n",
       "\n",
       "    waferIndex trianTestLabel failureType  \n",
       "19        20.0       Training         Loc  \n",
       "36        12.0       Training    Edge-Loc  \n",
       "37        13.0       Training    Edge-Loc  "
      ]
     },
     "execution_count": 5,
     "metadata": {},
     "output_type": "execute_result"
    }
   ],
   "source": [
    "# drop the row data with no specified label\n",
    "eliminate_list = ['none', '[]']\n",
    "df_with_label = df.query(f\"failureType not in {eliminate_list}\")\n",
    "print(f\"{len(df_with_label)}\")\n",
    "print(\"Label list: \", df_with_label[\"failureType\"].unique())\n",
    "df_with_label.head(3)"
   ]
  },
  {
   "cell_type": "code",
   "execution_count": 6,
   "id": "1a694b7a",
   "metadata": {
    "execution": {
     "iopub.execute_input": "2022-10-14T14:25:10.185236Z",
     "iopub.status.busy": "2022-10-14T14:25:10.184945Z",
     "iopub.status.idle": "2022-10-14T14:25:10.647086Z",
     "shell.execute_reply": "2022-10-14T14:25:10.646153Z"
    },
    "papermill": {
     "duration": 0.472736,
     "end_time": "2022-10-14T14:25:10.649230",
     "exception": false,
     "start_time": "2022-10-14T14:25:10.176494",
     "status": "completed"
    },
    "tags": []
   },
   "outputs": [
    {
     "name": "stdout",
     "output_type": "stream",
     "text": [
      "3    9680\n",
      "1    5189\n",
      "2    4294\n",
      "0    3593\n",
      "4    1193\n",
      "5     866\n",
      "7     555\n",
      "6     149\n",
      "Name: encoded_labels, dtype: int64\n"
     ]
    },
    {
     "data": {
      "text/html": [
       "<div>\n",
       "<style scoped>\n",
       "    .dataframe tbody tr th:only-of-type {\n",
       "        vertical-align: middle;\n",
       "    }\n",
       "\n",
       "    .dataframe tbody tr th {\n",
       "        vertical-align: top;\n",
       "    }\n",
       "\n",
       "    .dataframe thead th {\n",
       "        text-align: right;\n",
       "    }\n",
       "</style>\n",
       "<table border=\"1\" class=\"dataframe\">\n",
       "  <thead>\n",
       "    <tr style=\"text-align: right;\">\n",
       "      <th></th>\n",
       "      <th>waferMap</th>\n",
       "      <th>dieSize</th>\n",
       "      <th>lotName</th>\n",
       "      <th>waferIndex</th>\n",
       "      <th>trianTestLabel</th>\n",
       "      <th>failureType</th>\n",
       "      <th>encoded_labels</th>\n",
       "    </tr>\n",
       "  </thead>\n",
       "  <tbody>\n",
       "    <tr>\n",
       "      <th>0</th>\n",
       "      <td>[[0, 0, 0, 0, 0, 0, 0, 0, 0, 0, 0, 0, 0, 0, 0,...</td>\n",
       "      <td>1683.0</td>\n",
       "      <td>lot1</td>\n",
       "      <td>20.0</td>\n",
       "      <td>Training</td>\n",
       "      <td>Loc</td>\n",
       "      <td>0</td>\n",
       "    </tr>\n",
       "    <tr>\n",
       "      <th>1</th>\n",
       "      <td>[[0, 0, 0, 0, 0, 0, 0, 0, 0, 0, 0, 0, 0, 0, 0,...</td>\n",
       "      <td>2460.0</td>\n",
       "      <td>lot2</td>\n",
       "      <td>12.0</td>\n",
       "      <td>Training</td>\n",
       "      <td>Edge-Loc</td>\n",
       "      <td>1</td>\n",
       "    </tr>\n",
       "    <tr>\n",
       "      <th>2</th>\n",
       "      <td>[[0, 0, 0, 0, 0, 0, 0, 0, 0, 0, 0, 0, 0, 0, 0,...</td>\n",
       "      <td>2460.0</td>\n",
       "      <td>lot2</td>\n",
       "      <td>13.0</td>\n",
       "      <td>Training</td>\n",
       "      <td>Edge-Loc</td>\n",
       "      <td>1</td>\n",
       "    </tr>\n",
       "  </tbody>\n",
       "</table>\n",
       "</div>"
      ],
      "text/plain": [
       "                                            waferMap  dieSize lotName  \\\n",
       "0  [[0, 0, 0, 0, 0, 0, 0, 0, 0, 0, 0, 0, 0, 0, 0,...   1683.0    lot1   \n",
       "1  [[0, 0, 0, 0, 0, 0, 0, 0, 0, 0, 0, 0, 0, 0, 0,...   2460.0    lot2   \n",
       "2  [[0, 0, 0, 0, 0, 0, 0, 0, 0, 0, 0, 0, 0, 0, 0,...   2460.0    lot2   \n",
       "\n",
       "   waferIndex trianTestLabel failureType  encoded_labels  \n",
       "0        20.0       Training         Loc               0  \n",
       "1        12.0       Training    Edge-Loc               1  \n",
       "2        13.0       Training    Edge-Loc               1  "
      ]
     },
     "execution_count": 6,
     "metadata": {},
     "output_type": "execute_result"
    }
   ],
   "source": [
    "class2idx = {\n",
    "    'Loc': 0,\n",
    "    'Edge-Loc': 1,\n",
    "    'Center': 2,\n",
    "    'Edge-Ring': 3, \n",
    "    'Scratch': 4,\n",
    "    'Random': 5, \n",
    "    'Near-full': 6,\n",
    "    'Donut': 7\n",
    "}\n",
    "idx2class = {v: k for k, v in class2idx.items()}\n",
    "\n",
    "# The following needs only when you want to save the dict above. Not always necessary.\n",
    "class2idx_json_path = \"./config_class2idx.json\"\n",
    "with open(class2idx_json_path, \"w\") as f:\n",
    "    json.dump(class2idx, f)\n",
    "# ↑保存終了\n",
    "\n",
    "# New column → encoded_labels\n",
    "df_with_label[\"encoded_labels\"] = df_with_label[\"failureType\"].replace(class2idx)\n",
    "\n",
    "print(df_with_label[\"encoded_labels\"].value_counts())\n",
    "df_with_label.reset_index(inplace=True, drop=True)\n",
    "df_with_label.to_pickle(\"./LSWMD_25519.pkl\")  # ラベル有データ。ラベルエンコーディング等の前処理終わりデータになった。\n",
    "df_with_label.head(3)"
   ]
  },
  {
   "cell_type": "code",
   "execution_count": 7,
   "id": "8111b9f5",
   "metadata": {
    "execution": {
     "iopub.execute_input": "2022-10-14T14:25:10.666169Z",
     "iopub.status.busy": "2022-10-14T14:25:10.665406Z",
     "iopub.status.idle": "2022-10-14T14:25:11.012368Z",
     "shell.execute_reply": "2022-10-14T14:25:11.011193Z"
    },
    "papermill": {
     "duration": 0.358045,
     "end_time": "2022-10-14T14:25:11.014973",
     "exception": false,
     "start_time": "2022-10-14T14:25:10.656928",
     "status": "completed"
    },
    "tags": []
   },
   "outputs": [
    {
     "name": "stdout",
     "output_type": "stream",
     "text": [
      "training: 14290, val: 6125, test: 5104, (all: 25519)\n",
      "['config_class2idx.json', 'dataset_val.pickle', 'dataset_test.pickle', 'dataset_train.pickle', '__notebook__.ipynb', 'LSWMD_25519.pkl']\n"
     ]
    }
   ],
   "source": [
    "train_data_length = int(0.8*len(df_with_label))  # training data for 80% of all data\n",
    "df_with_label = df_with_label.sample(frac=1, random_state=2)\n",
    "df_train, df_test = df_with_label[:train_data_length], df_with_label[train_data_length:]\n",
    "df_train.reset_index(inplace=True, drop=True)\n",
    "df_test.reset_index(inplace=True, drop=True)\n",
    "\n",
    "train_data_length = int(0.7*len(df_train))  # Again, split the train data: train ⇨ train & val\n",
    "df_train, df_val = df_train[:train_data_length], df_train[train_data_length:]\n",
    "print(f\"training: {len(df_train)}, val: {len(df_val)}, test: {len(df_test)}, (all: {len(df_with_label)})\")\n",
    "\n",
    "# This aims to save the data into your environment.\n",
    "df_train.to_pickle(\"dataset_train.pickle\")\n",
    "df_val.to_pickle(\"dataset_val.pickle\")\n",
    "df_test.to_pickle(\"dataset_test.pickle\")\n",
    "print(os.listdir())"
   ]
  },
  {
   "cell_type": "code",
   "execution_count": 8,
   "id": "039035ce",
   "metadata": {
    "execution": {
     "iopub.execute_input": "2022-10-14T14:25:11.032337Z",
     "iopub.status.busy": "2022-10-14T14:25:11.032017Z",
     "iopub.status.idle": "2022-10-14T14:25:11.493559Z",
     "shell.execute_reply": "2022-10-14T14:25:11.492459Z"
    },
    "papermill": {
     "duration": 0.472598,
     "end_time": "2022-10-14T14:25:11.496122",
     "exception": false,
     "start_time": "2022-10-14T14:25:11.023524",
     "status": "completed"
    },
    "tags": []
   },
   "outputs": [
    {
     "data": {
      "text/html": [
       "<div>\n",
       "<style scoped>\n",
       "    .dataframe tbody tr th:only-of-type {\n",
       "        vertical-align: middle;\n",
       "    }\n",
       "\n",
       "    .dataframe tbody tr th {\n",
       "        vertical-align: top;\n",
       "    }\n",
       "\n",
       "    .dataframe thead th {\n",
       "        text-align: right;\n",
       "    }\n",
       "</style>\n",
       "<table border=\"1\" class=\"dataframe\">\n",
       "  <thead>\n",
       "    <tr style=\"text-align: right;\">\n",
       "      <th></th>\n",
       "      <th>waferMap</th>\n",
       "      <th>dieSize</th>\n",
       "      <th>lotName</th>\n",
       "      <th>waferIndex</th>\n",
       "      <th>trianTestLabel</th>\n",
       "      <th>failureType</th>\n",
       "      <th>encoded_labels</th>\n",
       "    </tr>\n",
       "  </thead>\n",
       "  <tbody>\n",
       "    <tr>\n",
       "      <th>0</th>\n",
       "      <td>[[0, 0, 0, 0, 0, 0, 0, 0, 0, 0, 0, 2, 1, 2, 1,...</td>\n",
       "      <td>515.0</td>\n",
       "      <td>lot32946</td>\n",
       "      <td>6.0</td>\n",
       "      <td>Training</td>\n",
       "      <td>Center</td>\n",
       "      <td>2</td>\n",
       "    </tr>\n",
       "    <tr>\n",
       "      <th>1</th>\n",
       "      <td>[[0, 0, 0, 0, 0, 0, 0, 0, 0, 0, 0, 0, 0, 0, 0,...</td>\n",
       "      <td>3927.0</td>\n",
       "      <td>lot11171</td>\n",
       "      <td>20.0</td>\n",
       "      <td>Training</td>\n",
       "      <td>Edge-Ring</td>\n",
       "      <td>3</td>\n",
       "    </tr>\n",
       "    <tr>\n",
       "      <th>2</th>\n",
       "      <td>[[0, 0, 0, 0, 0, 0, 0, 0, 0, 0, 0, 0, 0, 0, 0,...</td>\n",
       "      <td>1126.0</td>\n",
       "      <td>lot7741</td>\n",
       "      <td>1.0</td>\n",
       "      <td>Training</td>\n",
       "      <td>Random</td>\n",
       "      <td>5</td>\n",
       "    </tr>\n",
       "    <tr>\n",
       "      <th>3</th>\n",
       "      <td>[[0, 0, 0, 0, 0, 0, 0, 0, 0, 0, 0, 0, 0, 0, 1,...</td>\n",
       "      <td>1060.0</td>\n",
       "      <td>lot47461</td>\n",
       "      <td>9.0</td>\n",
       "      <td>Test</td>\n",
       "      <td>Center</td>\n",
       "      <td>2</td>\n",
       "    </tr>\n",
       "    <tr>\n",
       "      <th>4</th>\n",
       "      <td>[[0, 0, 0, 0, 0, 0, 0, 0, 0, 0, 0, 0, 0, 0, 0,...</td>\n",
       "      <td>13301.0</td>\n",
       "      <td>lot17294</td>\n",
       "      <td>1.0</td>\n",
       "      <td>Training</td>\n",
       "      <td>Scratch</td>\n",
       "      <td>4</td>\n",
       "    </tr>\n",
       "    <tr>\n",
       "      <th>5</th>\n",
       "      <td>[[0, 0, 0, 0, 0, 0, 0, 0, 0, 0, 1, 1, 1, 1, 1,...</td>\n",
       "      <td>533.0</td>\n",
       "      <td>lot40518</td>\n",
       "      <td>7.0</td>\n",
       "      <td>Test</td>\n",
       "      <td>Loc</td>\n",
       "      <td>0</td>\n",
       "    </tr>\n",
       "    <tr>\n",
       "      <th>6</th>\n",
       "      <td>[[0, 0, 0, 0, 0, 0, 0, 0, 0, 0, 0, 0, 0, 0, 0,...</td>\n",
       "      <td>1291.0</td>\n",
       "      <td>lot11987</td>\n",
       "      <td>23.0</td>\n",
       "      <td>Training</td>\n",
       "      <td>Edge-Ring</td>\n",
       "      <td>3</td>\n",
       "    </tr>\n",
       "    <tr>\n",
       "      <th>7</th>\n",
       "      <td>[[0, 0, 0, 0, 0, 0, 0, 0, 0, 0, 0, 0, 1, 1, 1,...</td>\n",
       "      <td>741.0</td>\n",
       "      <td>lot44491</td>\n",
       "      <td>21.0</td>\n",
       "      <td>Test</td>\n",
       "      <td>Edge-Loc</td>\n",
       "      <td>1</td>\n",
       "    </tr>\n",
       "    <tr>\n",
       "      <th>8</th>\n",
       "      <td>[[0, 0, 0, 0, 0, 0, 0, 0, 0, 0, 0, 0, 0, 0, 0,...</td>\n",
       "      <td>12662.0</td>\n",
       "      <td>lot19855</td>\n",
       "      <td>24.0</td>\n",
       "      <td>Training</td>\n",
       "      <td>Edge-Ring</td>\n",
       "      <td>3</td>\n",
       "    </tr>\n",
       "    <tr>\n",
       "      <th>9</th>\n",
       "      <td>[[0, 0, 0, 0, 0, 0, 0, 0, 0, 0, 0, 0, 0, 0, 0,...</td>\n",
       "      <td>12662.0</td>\n",
       "      <td>lot17286</td>\n",
       "      <td>20.0</td>\n",
       "      <td>Training</td>\n",
       "      <td>Edge-Ring</td>\n",
       "      <td>3</td>\n",
       "    </tr>\n",
       "  </tbody>\n",
       "</table>\n",
       "</div>"
      ],
      "text/plain": [
       "                                            waferMap  dieSize   lotName  \\\n",
       "0  [[0, 0, 0, 0, 0, 0, 0, 0, 0, 0, 0, 2, 1, 2, 1,...    515.0  lot32946   \n",
       "1  [[0, 0, 0, 0, 0, 0, 0, 0, 0, 0, 0, 0, 0, 0, 0,...   3927.0  lot11171   \n",
       "2  [[0, 0, 0, 0, 0, 0, 0, 0, 0, 0, 0, 0, 0, 0, 0,...   1126.0   lot7741   \n",
       "3  [[0, 0, 0, 0, 0, 0, 0, 0, 0, 0, 0, 0, 0, 0, 1,...   1060.0  lot47461   \n",
       "4  [[0, 0, 0, 0, 0, 0, 0, 0, 0, 0, 0, 0, 0, 0, 0,...  13301.0  lot17294   \n",
       "5  [[0, 0, 0, 0, 0, 0, 0, 0, 0, 0, 1, 1, 1, 1, 1,...    533.0  lot40518   \n",
       "6  [[0, 0, 0, 0, 0, 0, 0, 0, 0, 0, 0, 0, 0, 0, 0,...   1291.0  lot11987   \n",
       "7  [[0, 0, 0, 0, 0, 0, 0, 0, 0, 0, 0, 0, 1, 1, 1,...    741.0  lot44491   \n",
       "8  [[0, 0, 0, 0, 0, 0, 0, 0, 0, 0, 0, 0, 0, 0, 0,...  12662.0  lot19855   \n",
       "9  [[0, 0, 0, 0, 0, 0, 0, 0, 0, 0, 0, 0, 0, 0, 0,...  12662.0  lot17286   \n",
       "\n",
       "   waferIndex trianTestLabel failureType  encoded_labels  \n",
       "0         6.0       Training      Center               2  \n",
       "1        20.0       Training   Edge-Ring               3  \n",
       "2         1.0       Training      Random               5  \n",
       "3         9.0           Test      Center               2  \n",
       "4         1.0       Training     Scratch               4  \n",
       "5         7.0           Test         Loc               0  \n",
       "6        23.0       Training   Edge-Ring               3  \n",
       "7        21.0           Test    Edge-Loc               1  \n",
       "8        24.0       Training   Edge-Ring               3  \n",
       "9        20.0       Training   Edge-Ring               3  "
      ]
     },
     "execution_count": 8,
     "metadata": {},
     "output_type": "execute_result"
    }
   ],
   "source": [
    "df_train.head(10)"
   ]
  },
  {
   "cell_type": "code",
   "execution_count": 9,
   "id": "fc88cd65",
   "metadata": {
    "execution": {
     "iopub.execute_input": "2022-10-14T14:25:11.514535Z",
     "iopub.status.busy": "2022-10-14T14:25:11.513638Z",
     "iopub.status.idle": "2022-10-14T14:25:12.744678Z",
     "shell.execute_reply": "2022-10-14T14:25:12.743807Z"
    },
    "papermill": {
     "duration": 1.244597,
     "end_time": "2022-10-14T14:25:12.748939",
     "exception": false,
     "start_time": "2022-10-14T14:25:11.504342",
     "status": "completed"
    },
    "tags": []
   },
   "outputs": [
    {
     "data": {
      "image/png": "[encoded data removed]",
      "text/plain": [
       "<Figure size 864x864 with 32 Axes>"
      ]
     },
     "metadata": {
      "needs_background": "light"
     },
     "output_type": "display_data"
    }
   ],
   "source": [
    "idx2class = {v: k for k, v in class2idx.items()}\n",
    "batch_size = 32\n",
    "plt.figure(figsize=(12,12))\n",
    "for i in range(batch_size):\n",
    "    ax = plt.subplot(4, 8, i+1)\n",
    "    ax.axis(\"off\")\n",
    "    ax.imshow(df_train[\"waferMap\"][i])\n",
    "    ax.set_title(f'{idx2class[df_train[\"encoded_labels\"][i]]}:{str(df_train[\"encoded_labels\"][i])}', fontsize=8)"
   ]
  },
  {
   "cell_type": "markdown",
   "id": "76cc90d9",
   "metadata": {
    "papermill": {
     "duration": 0.010435,
     "end_time": "2022-10-14T14:25:12.770547",
     "exception": false,
     "start_time": "2022-10-14T14:25:12.760112",
     "status": "completed"
    },
    "tags": []
   },
   "source": [
    "Preprocess ended! 前処理終了\n",
    "# Model definition、Training\n",
    "- Simple model definition \n",
    "- Implement with `pytorch-metric-learning` library"
   ]
  },
  {
   "cell_type": "code",
   "execution_count": 10,
   "id": "8793f534",
   "metadata": {
    "execution": {
     "iopub.execute_input": "2022-10-14T14:25:12.793065Z",
     "iopub.status.busy": "2022-10-14T14:25:12.792765Z",
     "iopub.status.idle": "2022-10-14T14:25:54.269054Z",
     "shell.execute_reply": "2022-10-14T14:25:54.267800Z"
    },
    "papermill": {
     "duration": 41.490695,
     "end_time": "2022-10-14T14:25:54.271897",
     "exception": false,
     "start_time": "2022-10-14T14:25:12.781202",
     "status": "completed"
    },
    "tags": []
   },
   "outputs": [
    {
     "name": "stdout",
     "output_type": "stream",
     "text": [
      "Collecting pytorch-metric-learning==1.6.2\r\n",
      "  Downloading pytorch_metric_learning-1.6.2-py3-none-any.whl (111 kB)\r\n",
      "\u001b[2K     \u001b[90m━━━━━━━━━━━━━━━━━━━━━━━━━━━━━━━━━━━━━\u001b[0m \u001b[32m111.4/111.4 kB\u001b[0m \u001b[31m262.2 kB/s\u001b[0m eta \u001b[36m0:00:00\u001b[0m\r\n",
      "\u001b[?25hRequirement already satisfied: torch>=1.6.0 in /opt/conda/lib/python3.7/site-packages (from pytorch-metric-learning==1.6.2) (1.11.0)\r\n",
      "Requirement already satisfied: tqdm in /opt/conda/lib/python3.7/site-packages (from pytorch-metric-learning==1.6.2) (4.64.0)\r\n",
      "Requirement already satisfied: torchvision in /opt/conda/lib/python3.7/site-packages (from pytorch-metric-learning==1.6.2) (0.12.0)\r\n",
      "Requirement already satisfied: scikit-learn in /opt/conda/lib/python3.7/site-packages (from pytorch-metric-learning==1.6.2) (1.0.2)\r\n",
      "Requirement already satisfied: numpy in /opt/conda/lib/python3.7/site-packages (from pytorch-metric-learning==1.6.2) (1.21.6)\r\n",
      "Requirement already satisfied: typing-extensions in /opt/conda/lib/python3.7/site-packages (from torch>=1.6.0->pytorch-metric-learning==1.6.2) (4.3.0)\r\n",
      "Requirement already satisfied: scipy>=1.1.0 in /opt/conda/lib/python3.7/site-packages (from scikit-learn->pytorch-metric-learning==1.6.2) (1.7.3)\r\n",
      "Requirement already satisfied: joblib>=0.11 in /opt/conda/lib/python3.7/site-packages (from scikit-learn->pytorch-metric-learning==1.6.2) (1.0.1)\r\n",
      "Requirement already satisfied: threadpoolctl>=2.0.0 in /opt/conda/lib/python3.7/site-packages (from scikit-learn->pytorch-metric-learning==1.6.2) (3.1.0)\r\n",
      "Requirement already satisfied: pillow!=8.3.*,>=5.3.0 in /opt/conda/lib/python3.7/site-packages (from torchvision->pytorch-metric-learning==1.6.2) (9.1.1)\r\n",
      "Requirement already satisfied: requests in /opt/conda/lib/python3.7/site-packages (from torchvision->pytorch-metric-learning==1.6.2) (2.28.1)\r\n",
      "Requirement already satisfied: idna<4,>=2.5 in /opt/conda/lib/python3.7/site-packages (from requests->torchvision->pytorch-metric-learning==1.6.2) (3.3)\r\n",
      "Requirement already satisfied: charset-normalizer<3,>=2 in /opt/conda/lib/python3.7/site-packages (from requests->torchvision->pytorch-metric-learning==1.6.2) (2.1.0)\r\n",
      "Requirement already satisfied: certifi>=2017.4.17 in /opt/conda/lib/python3.7/site-packages (from requests->torchvision->pytorch-metric-learning==1.6.2) (2022.6.15.2)\r\n",
      "Requirement already satisfied: urllib3<1.27,>=1.21.1 in /opt/conda/lib/python3.7/site-packages (from requests->torchvision->pytorch-metric-learning==1.6.2) (1.26.12)\r\n",
      "Installing collected packages: pytorch-metric-learning\r\n",
      "Successfully installed pytorch-metric-learning-1.6.2\r\n",
      "\u001b[33mWARNING: Running pip as the 'root' user can result in broken permissions and conflicting behaviour with the system package manager. It is recommended to use a virtual environment instead: https://pip.pypa.io/warnings/venv\u001b[0m\u001b[33m\r\n",
      "\u001b[0m\u001b[33mWARNING: Running pip as the 'root' user can result in broken permissions and conflicting behaviour with the system package manager. It is recommended to use a virtual environment instead: https://pip.pypa.io/warnings/venv\u001b[0m\u001b[33m\r\n",
      "\u001b[0mCollecting faiss-cpu\r\n",
      "  Downloading faiss_cpu-1.7.2-cp37-cp37m-manylinux_2_17_x86_64.manylinux2014_x86_64.whl (8.6 MB)\r\n",
      "\u001b[2K     \u001b[90m━━━━━━━━━━━━━━━━━━━━━━━━━━━━━━━━━━━━━━━━\u001b[0m \u001b[32m8.6/8.6 MB\u001b[0m \u001b[31m5.3 MB/s\u001b[0m eta \u001b[36m0:00:00\u001b[0m\r\n",
      "\u001b[?25hInstalling collected packages: faiss-cpu\r\n",
      "Successfully installed faiss-cpu-1.7.2\r\n",
      "\u001b[33mWARNING: Running pip as the 'root' user can result in broken permissions and conflicting behaviour with the system package manager. It is recommended to use a virtual environment instead: https://pip.pypa.io/warnings/venv\u001b[0m\u001b[33m\r\n",
      "\u001b[0m"
     ]
    }
   ],
   "source": [
    "!pip install pytorch-metric-learning==1.6.2\n",
    "# !pip install -q pytorch-metric-learning[with-hooks]\n",
    "!pip install -q scanpy\n",
    "!pip install faiss-cpu"
   ]
  },
  {
   "cell_type": "code",
   "execution_count": 11,
   "id": "3044600e",
   "metadata": {
    "execution": {
     "iopub.execute_input": "2022-10-14T14:25:54.300784Z",
     "iopub.status.busy": "2022-10-14T14:25:54.300431Z",
     "iopub.status.idle": "2022-10-14T14:26:11.887060Z",
     "shell.execute_reply": "2022-10-14T14:26:11.886083Z"
    },
    "papermill": {
     "duration": 17.60371,
     "end_time": "2022-10-14T14:26:11.889452",
     "exception": false,
     "start_time": "2022-10-14T14:25:54.285742",
     "status": "completed"
    },
    "tags": []
   },
   "outputs": [],
   "source": [
    "from typing import Any, List\n",
    "import torch\n",
    "import torchvision\n",
    "from torch import optim \n",
    "import torch.nn as nn\n",
    "from torch.utils.data import Dataset\n",
    "import torch.nn.functional as F\n",
    "from pytorch_metric_learning import losses, miners, distances, reducers, samplers\n",
    "from pytorch_metric_learning import trainers, testers\n",
    "from pytorch_metric_learning.utils.accuracy_calculator import AccuracyCalculator\n",
    "from pytorch_metric_learning.utils import logging_presets\n",
    "import cv2\n",
    "import umap"
   ]
  },
  {
   "cell_type": "code",
   "execution_count": 12,
   "id": "03cc2588",
   "metadata": {
    "execution": {
     "iopub.execute_input": "2022-10-14T14:26:11.918271Z",
     "iopub.status.busy": "2022-10-14T14:26:11.917754Z",
     "iopub.status.idle": "2022-10-14T14:26:11.928634Z",
     "shell.execute_reply": "2022-10-14T14:26:11.927613Z"
    },
    "papermill": {
     "duration": 0.027819,
     "end_time": "2022-10-14T14:26:11.931017",
     "exception": false,
     "start_time": "2022-10-14T14:26:11.903198",
     "status": "completed"
    },
    "tags": []
   },
   "outputs": [],
   "source": [
    "# Dataset class definition\n",
    "class WafermapTripletDataset(Dataset):\n",
    "    def __init__(self, \n",
    "                 dataset_path: str = \"\",\n",
    "                 column_name_apply_wafermap = \"waferMap\",\n",
    "                 column_name_label: str = \"encoded_labels\",\n",
    "                 resized_image_size: int = 80,\n",
    "                 transforms: Any = None,\n",
    "                 phase: str = \"train\"):\n",
    "        super().__init__()\n",
    "        self.__dict__.update(locals())  # 個人的にはあまり好きな書き方ではない。1つずつ定義を書いてもいいと思う。\n",
    "        self._init_dataset()\n",
    "        self.transforms = transforms\n",
    "        self.phase = phase \n",
    "    \n",
    "    def __len__(self):\n",
    "        return len(self.df)\n",
    "\n",
    "    def __getitem__(self, index):\n",
    "        apply_wafermap, label = self.apply_wafer_maps[index], self.labels[index]\n",
    "        if self.transforms:\n",
    "            apply_wafermap = self.transforms(apply_wafermap, self.phase)\n",
    "        else:\n",
    "            pass\n",
    "        apply_wafermap = apply_wafermap.to(torch.float32)\n",
    "\n",
    "        return (apply_wafermap, label)\n",
    "\n",
    "    def _init_dataset(self):\n",
    "        self.df = pd.read_pickle(self.dataset_path).reset_index()\n",
    "        self.labels = self.df[self.column_name_label]\n",
    "\n",
    "        # modify wafermaps\n",
    "        # apply image\n",
    "        self.df[self.column_name_apply_wafermap] = self.df[self.column_name_apply_wafermap].apply(lambda x: cv2.resize(x, (self.resized_image_size, self.resized_image_size)))\n",
    "        self.df[self.column_name_apply_wafermap] = self.df[self.column_name_apply_wafermap].apply(lambda x: np.repeat(x[..., np.newaxis], 1, -1))\n",
    "        self.apply_wafer_maps = self.df[self.column_name_apply_wafermap].apply(lambda x: x.transpose((2,1,0)))  # inputの(バッチ、チャネル、たて、よこ)順番調整\n",
    "        self.apply_wafer_maps = self.apply_wafer_maps + 1e-6\n",
    "        self.apply_wafer_maps = self.apply_wafer_maps.apply(lambda x: torch.from_numpy(x))"
   ]
  },
  {
   "cell_type": "code",
   "execution_count": 13,
   "id": "7f4500f7",
   "metadata": {
    "execution": {
     "iopub.execute_input": "2022-10-14T14:26:11.958418Z",
     "iopub.status.busy": "2022-10-14T14:26:11.958126Z",
     "iopub.status.idle": "2022-10-14T14:26:11.967106Z",
     "shell.execute_reply": "2022-10-14T14:26:11.966262Z"
    },
    "papermill": {
     "duration": 0.024858,
     "end_time": "2022-10-14T14:26:11.969004",
     "exception": false,
     "start_time": "2022-10-14T14:26:11.944146",
     "status": "completed"
    },
    "tags": []
   },
   "outputs": [],
   "source": [
    "class Net(nn.Module):\n",
    "    def __init__(self):\n",
    "        super(Net, self).__init__()\n",
    "        self.conv1 = nn.Conv2d(1, 32, 3, 1)\n",
    "        self.conv2 = nn.Conv2d(32, 64, 1, 1)\n",
    "        self.conv3 = nn.Conv2d(64, 128, 3, 1)\n",
    "        self.dropout1 = nn.Dropout2d(0.25)\n",
    "        self.dropout2 = nn.Dropout2d(0.25)\n",
    "        self.fc = nn.Linear(18432, 1152)\n",
    "\n",
    "    def forward(self, x):\n",
    "        x = self.conv1(x)\n",
    "        x = F.relu(x)\n",
    "        x = self.conv2(x)\n",
    "        x = F.relu(x)\n",
    "        x = self.conv3(x)\n",
    "        x = F.relu(x)\n",
    "        x = F.max_pool2d(x, 2)\n",
    "        x = self.dropout1(x)\n",
    "        x = torch.flatten(x, 1)\n",
    "        x = self.fc(x)\n",
    "        x = F.relu(x)\n",
    "        x = self.dropout2(x)\n",
    "        return x\n",
    "\n",
    "\n",
    "class Embedder(nn.Module):\n",
    "    def __init__(self):\n",
    "        super(Embedder, self).__init__()\n",
    "        self.fc = nn.Linear(1152, 128)\n",
    "\n",
    "    def forward(self, x):\n",
    "        x = self.fc(x)\n",
    "        return x"
   ]
  },
  {
   "cell_type": "code",
   "execution_count": 14,
   "id": "b987d6e4",
   "metadata": {
    "execution": {
     "iopub.execute_input": "2022-10-14T14:26:11.996919Z",
     "iopub.status.busy": "2022-10-14T14:26:11.996648Z",
     "iopub.status.idle": "2022-10-14T14:26:16.253738Z",
     "shell.execute_reply": "2022-10-14T14:26:16.252735Z"
    },
    "papermill": {
     "duration": 4.274381,
     "end_time": "2022-10-14T14:26:16.256460",
     "exception": false,
     "start_time": "2022-10-14T14:26:11.982079",
     "status": "completed"
    },
    "tags": []
   },
   "outputs": [
    {
     "name": "stdout",
     "output_type": "stream",
     "text": [
      "None\n"
     ]
    }
   ],
   "source": [
    "device = torch.device(\"cuda\" if torch.cuda.is_available() else \"cpu\")\n",
    "\n",
    "# load the model\n",
    "trunk = Net()\n",
    "trunk = torch.nn.DataParallel(trunk.to(device))\n",
    "embedder = Embedder()\n",
    "embedder = torch.nn.DataParallel(embedder.to(device))\n",
    "models = {\"trunk\": trunk, \"embedder\": embedder} \n",
    "\n",
    "# optimizer setting\n",
    "trunk_optimizer = optim.Adam(trunk.parameters(), lr=0.01)\n",
    "embedder_optimizer = optim.Adam(embedder.parameters(), lr=0.005)\n",
    "optimizers = {\"trunk_optimizer\": trunk_optimizer, \n",
    "              \"embedder_optimizer\": embedder_optimizer}\n",
    "\n",
    "distance = distances.CosineSimilarity()\n",
    "reducer = reducers.ThresholdReducer(low=0) # 1対のペアごとにロスが計算されるが、揃ったものすべてを使うのではなく一定の閾値以上のものだけ使おうという処理。組み合わせ多いからかな。\n",
    "loss = losses.TripletMarginLoss(margin=0.2, distance=distance, reducer=reducer)\n",
    "miner = miners.TripletMarginMiner(margin=0.2, distance=distance, type_of_triplets=\"semihard\")  # ペアのうち、semihardとなるものを探す(=mining)機能。ここも調整の余地あり\n",
    "loss_funcs = {\"metric_loss\": loss}\n",
    "mining_funcs = {\"tuple_miner\": miner}\n",
    "\n",
    "# visual_hook implementation for result visualization\n",
    "record_keeper, _, _ = logging_presets.get_record_keeper(\"logs\", \"tensorboard\")  # ログ機能。logs, tensorboardフォルダを作って色々格納してくれるが本筋に影響なし\n",
    "print(f\"{record_keeper}\")\n",
    "hooks = logging_presets.get_hook_container(record_keeper)  # 学習イテレーションごとに追加処理を行うときに使う（embeddingをプロットしたい、）\n",
    "\n",
    "def visualizer_hook(umapper, umap_embeddings, labels, split_name, keyname, epoch):\n",
    "    class_labels = np.unique(labels)\n",
    "    num_classes = len(class_labels)\n",
    "\n",
    "    fig = plt.figure(figsize=(8, 6))\n",
    "    colors = [plt.cm.nipy_spectral(i) for i in np.linspace(0, 0.9, num_classes)]\n",
    "    plt.gca().set_prop_cycle(cycler(\"color\", colors))\n",
    "\n",
    "    for i, lab in enumerate(class_labels):\n",
    "        idx = labels == class_labels[i]\n",
    "        plt.plot(umap_embeddings[idx, 0], umap_embeddings[idx, 1], \".\", markersize=3, label=lab) \n",
    "\n",
    "    plt.legend(frameon=False, fontsize=12, bbox_to_anchor=(1.05, 1), loc='upper left')\n",
    "    os.makedirs(\"result\", exist_ok=True)\n",
    "    plt.savefig(f\"result/{epoch:02d}.png\")\n",
    "    plt.show()\n",
    "    plt.close()"
   ]
  },
  {
   "cell_type": "code",
   "execution_count": 15,
   "id": "eb0c416c",
   "metadata": {
    "execution": {
     "iopub.execute_input": "2022-10-14T14:26:16.286370Z",
     "iopub.status.busy": "2022-10-14T14:26:16.285673Z",
     "iopub.status.idle": "2022-10-14T14:26:17.176022Z",
     "shell.execute_reply": "2022-10-14T14:26:17.175038Z"
    },
    "papermill": {
     "duration": 0.907243,
     "end_time": "2022-10-14T14:26:17.178374",
     "exception": false,
     "start_time": "2022-10-14T14:26:16.271131",
     "status": "completed"
    },
    "tags": []
   },
   "outputs": [],
   "source": [
    "dataset_train_path = \"./dataset_train.pickle\"\n",
    "dataset_val_path = \"./dataset_train.pickle\"\n",
    "dataset_test_path = \"./dataset_test.pickle\"\n",
    "train_dataset = WafermapTripletDataset(dataset_train_path, resized_image_size=28, column_name_apply_wafermap=\"waferMap\")\n",
    "val_dataset = WafermapTripletDataset(dataset_val_path, resized_image_size=28, column_name_apply_wafermap=\"waferMap\")\n",
    "test_dataset = WafermapTripletDataset(dataset_test_path, resized_image_size=28, column_name_apply_wafermap=\"waferMap\")"
   ]
  },
  {
   "cell_type": "code",
   "execution_count": 16,
   "id": "b256e033",
   "metadata": {
    "execution": {
     "iopub.execute_input": "2022-10-14T14:26:17.207352Z",
     "iopub.status.busy": "2022-10-14T14:26:17.206991Z",
     "iopub.status.idle": "2022-10-14T14:30:46.850862Z",
     "shell.execute_reply": "2022-10-14T14:30:46.848626Z"
    },
    "papermill": {
     "duration": 269.660761,
     "end_time": "2022-10-14T14:30:46.853133",
     "exception": false,
     "start_time": "2022-10-14T14:26:17.192372",
     "status": "completed"
    },
    "tags": []
   },
   "outputs": [
    {
     "name": "stderr",
     "output_type": "stream",
     "text": [
      "total_loss=0.09303: 100%|██████████| 297/297 [00:10<00:00, 27.35it/s]\n",
      "total_loss=0.11046: 100%|██████████| 297/297 [00:05<00:00, 57.34it/s]\n",
      "total_loss=0.09280: 100%|██████████| 297/297 [00:05<00:00, 57.51it/s]\n",
      "total_loss=0.08014: 100%|██████████| 297/297 [00:05<00:00, 58.44it/s]\n",
      "total_loss=0.08813: 100%|██████████| 297/297 [00:05<00:00, 55.31it/s]\n",
      "total_loss=0.10401: 100%|██████████| 297/297 [00:05<00:00, 55.63it/s]\n",
      "total_loss=0.07873: 100%|██████████| 297/297 [00:05<00:00, 56.45it/s]\n",
      "total_loss=0.07824: 100%|██████████| 297/297 [00:05<00:00, 58.45it/s]\n",
      "total_loss=0.07837: 100%|██████████| 297/297 [00:05<00:00, 57.33it/s]\n",
      "total_loss=0.05647: 100%|██████████| 297/297 [00:05<00:00, 57.94it/s]\n",
      "total_loss=0.09598: 100%|██████████| 297/297 [00:05<00:00, 53.88it/s]\n",
      "total_loss=0.06105: 100%|██████████| 297/297 [00:05<00:00, 54.27it/s]\n",
      "total_loss=0.10022: 100%|██████████| 297/297 [00:05<00:00, 57.12it/s]\n",
      "total_loss=0.10544: 100%|██████████| 297/297 [00:05<00:00, 57.83it/s]\n",
      "total_loss=0.08422: 100%|██████████| 297/297 [00:05<00:00, 57.11it/s]\n",
      "total_loss=0.09043: 100%|██████████| 297/297 [00:05<00:00, 57.63it/s]\n",
      "total_loss=0.07023: 100%|██████████| 297/297 [00:05<00:00, 55.73it/s]\n",
      "total_loss=0.10916: 100%|██████████| 297/297 [00:05<00:00, 55.91it/s]\n",
      "total_loss=0.05244: 100%|██████████| 297/297 [00:05<00:00, 55.15it/s]\n",
      "total_loss=0.05835: 100%|██████████| 297/297 [00:05<00:00, 57.59it/s]\n",
      "total_loss=0.08989: 100%|██████████| 297/297 [00:05<00:00, 57.29it/s]\n",
      "total_loss=0.06457: 100%|██████████| 297/297 [00:05<00:00, 57.53it/s]\n",
      "total_loss=0.05852: 100%|██████████| 297/297 [00:05<00:00, 52.76it/s]\n",
      "total_loss=0.06547: 100%|██████████| 297/297 [00:05<00:00, 54.87it/s]\n",
      "total_loss=0.05205: 100%|██████████| 297/297 [00:05<00:00, 55.10it/s]\n",
      "total_loss=0.11518: 100%|██████████| 297/297 [00:05<00:00, 58.88it/s]\n",
      "total_loss=0.03342: 100%|██████████| 297/297 [00:05<00:00, 56.35it/s]\n",
      "total_loss=0.03022: 100%|██████████| 297/297 [00:05<00:00, 56.80it/s]\n",
      "total_loss=0.04216: 100%|██████████| 297/297 [00:05<00:00, 57.28it/s]\n",
      "total_loss=0.03736: 100%|██████████| 297/297 [00:05<00:00, 55.55it/s]\n",
      "total_loss=0.10157: 100%|██████████| 297/297 [00:05<00:00, 54.42it/s]\n",
      "total_loss=0.05310: 100%|██████████| 297/297 [00:05<00:00, 56.33it/s]\n",
      "total_loss=0.03946: 100%|██████████| 297/297 [00:05<00:00, 57.15it/s]\n",
      "total_loss=0.05322: 100%|██████████| 297/297 [00:05<00:00, 55.43it/s]\n",
      "total_loss=0.02864: 100%|██████████| 297/297 [00:05<00:00, 57.34it/s]\n",
      "total_loss=0.04659: 100%|██████████| 297/297 [00:05<00:00, 55.86it/s]\n",
      "total_loss=0.02322: 100%|██████████| 297/297 [00:05<00:00, 54.85it/s]\n",
      "total_loss=0.05003: 100%|██████████| 297/297 [00:05<00:00, 57.44it/s]\n",
      "total_loss=0.09733: 100%|██████████| 297/297 [00:05<00:00, 57.59it/s]\n",
      "total_loss=0.06683: 100%|██████████| 297/297 [00:05<00:00, 54.44it/s]\n",
      "total_loss=0.03545: 100%|██████████| 297/297 [00:05<00:00, 56.83it/s]\n",
      "total_loss=0.04895: 100%|██████████| 297/297 [00:05<00:00, 57.41it/s]\n",
      "total_loss=0.04782: 100%|██████████| 297/297 [00:05<00:00, 55.03it/s]\n",
      "total_loss=0.05258: 100%|██████████| 297/297 [00:05<00:00, 56.40it/s]\n",
      "total_loss=0.00943: 100%|██████████| 297/297 [00:05<00:00, 58.62it/s]\n",
      "total_loss=0.09514: 100%|██████████| 297/297 [00:05<00:00, 52.70it/s]\n",
      "total_loss=0.01100: 100%|██████████| 297/297 [00:05<00:00, 58.76it/s]\n",
      "total_loss=0.02404: 100%|██████████| 297/297 [00:05<00:00, 55.95it/s]\n",
      "total_loss=0.03576: 100%|██████████| 297/297 [00:05<00:00, 55.50it/s]\n",
      "total_loss=0.01683: 100%|██████████| 297/297 [00:05<00:00, 55.83it/s]\n"
     ]
    }
   ],
   "source": [
    "# Tester definition\n",
    "tester = testers.GlobalEmbeddingSpaceTester(end_of_testing_hook=hooks.end_of_testing_hook, \n",
    "                                            visualizer=umap.UMAP(), \n",
    "                                            visualizer_hook=visualizer_hook,\n",
    "                                            dataloader_num_workers=4)\n",
    "\n",
    "# Hook setting　→　1 epochごとにやってくれる処理をまとめるモジュールと考えればOK\n",
    "dataset_dict = {\"val\": val_dataset}\n",
    "model_dir = \"./saved_models\"\n",
    "end_of_epoch_hook = hooks.end_of_epoch_hook(tester, \n",
    "                                            dataset_dict, \n",
    "                                            model_dir, \n",
    "#                                             test_interval=1,   # depending on the PML version, this might be an error\n",
    "#                                             patience=1,  # depending on the PML version, this might be an error\n",
    "                                           )\n",
    "\n",
    "# Model training\n",
    "num_epochs = 50\n",
    "batch_size = 48\n",
    "\n",
    "# PML training API：trainer　⇒　モデル、ロス、最適化関数、データセットクラス、マイニング関数、等を与える\n",
    "trainer = trainers.MetricLossOnly(models,\n",
    "                                  optimizers,\n",
    "                                  batch_size,\n",
    "                                  loss_funcs,\n",
    "                                  mining_funcs,\n",
    "                                  train_dataset,\n",
    "                                #   sampler=sampler,\n",
    "                                  dataloader_num_workers=4,\n",
    "                                  end_of_iteration_hook=hooks.end_of_iteration_hook,\n",
    "                                  end_of_epoch_hook=end_of_epoch_hook)\n",
    "trainer.train(num_epochs=num_epochs)"
   ]
  },
  {
   "cell_type": "code",
   "execution_count": 17,
   "id": "be3da84e",
   "metadata": {
    "execution": {
     "iopub.execute_input": "2022-10-14T14:30:48.718044Z",
     "iopub.status.busy": "2022-10-14T14:30:48.717612Z",
     "iopub.status.idle": "2022-10-14T14:30:48.723067Z",
     "shell.execute_reply": "2022-10-14T14:30:48.722113Z"
    },
    "papermill": {
     "duration": 0.940602,
     "end_time": "2022-10-14T14:30:48.725134",
     "exception": false,
     "start_time": "2022-10-14T14:30:47.784532",
     "status": "completed"
    },
    "tags": []
   },
   "outputs": [],
   "source": [
    "# you can plot learning history, but it seems to depend on PML version. I am trying.\n",
    "\n",
    "# loss_history = hooks.get_loss_history()\n",
    "# plt.plot(loss_history[\"metric_loss\"], \"r\", alpha=0.6, label=\"loss\")\n",
    "# plt.legend()"
   ]
  },
  {
   "cell_type": "markdown",
   "id": "bfef095d",
   "metadata": {
    "papermill": {
     "duration": 0.918499,
     "end_time": "2022-10-14T14:30:50.517663",
     "exception": false,
     "start_time": "2022-10-14T14:30:49.599164",
     "status": "completed"
    },
    "tags": []
   },
   "source": [
    "# Inference(Image Retrieval) 推論（画像検索）\n",
    "- Load the model\n",
    "- `InferenceModel`(pytorch-metric-learning module) ⇨ executes nearest neighbor search"
   ]
  },
  {
   "cell_type": "code",
   "execution_count": 18,
   "id": "50751de3",
   "metadata": {
    "execution": {
     "iopub.execute_input": "2022-10-14T14:30:52.362506Z",
     "iopub.status.busy": "2022-10-14T14:30:52.362103Z",
     "iopub.status.idle": "2022-10-14T14:30:52.368742Z",
     "shell.execute_reply": "2022-10-14T14:30:52.367667Z"
    },
    "papermill": {
     "duration": 0.934038,
     "end_time": "2022-10-14T14:30:52.370827",
     "exception": false,
     "start_time": "2022-10-14T14:30:51.436789",
     "status": "completed"
    },
    "tags": []
   },
   "outputs": [],
   "source": [
    "from pytorch_metric_learning.distances import CosineSimilarity\n",
    "from pytorch_metric_learning.utils import common_functions as c_f\n",
    "from pytorch_metric_learning.utils.inference import InferenceModel, MatchFinder\n",
    "\n",
    "\n",
    "# saved_trunk_path = \"./saved_models/trunk_best1.pth\"\n",
    "# saved_embedder_path = \"./saved_models/embedder_best1.pth\"\n",
    "\n",
    "# trunk = Net()\n",
    "# trunk.load_state_dict(torch.load(saved_trunk_path))\n",
    "# trunk.cpu()\n",
    "\n",
    "# embedder = Embedder()\n",
    "# embedder.load_state_dict(torch.load(saved_embedder_path))\n",
    "# embedder.cpu()\n",
    "\n",
    "match_finder = MatchFinder(distance=CosineSimilarity(), threshold=0.7)\n",
    "inference_model = InferenceModel(trunk=trunk,\n",
    "                                 embedder=embedder,\n",
    "                                 match_finder=match_finder,\n",
    "                                 data_device=\"cpu\",\n",
    "                                 )"
   ]
  },
  {
   "cell_type": "code",
   "execution_count": 19,
   "id": "9a0dc6e8",
   "metadata": {
    "execution": {
     "iopub.execute_input": "2022-10-14T14:30:54.196268Z",
     "iopub.status.busy": "2022-10-14T14:30:54.195898Z",
     "iopub.status.idle": "2022-10-14T14:30:54.401728Z",
     "shell.execute_reply": "2022-10-14T14:30:54.400697Z"
    },
    "papermill": {
     "duration": 1.13357,
     "end_time": "2022-10-14T14:30:54.404113",
     "exception": false,
     "start_time": "2022-10-14T14:30:53.270543",
     "status": "completed"
    },
    "tags": []
   },
   "outputs": [],
   "source": [
    "# knn!(knn way nearest neighbor search)： This makes indices of the dataset\n",
    "inference_model.train_knn(test_dataset)"
   ]
  },
  {
   "cell_type": "code",
   "execution_count": 20,
   "id": "93640b10",
   "metadata": {
    "execution": {
     "iopub.execute_input": "2022-10-14T14:30:56.256115Z",
     "iopub.status.busy": "2022-10-14T14:30:56.255749Z",
     "iopub.status.idle": "2022-10-14T14:30:56.276035Z",
     "shell.execute_reply": "2022-10-14T14:30:56.274429Z"
    },
    "papermill": {
     "duration": 0.947522,
     "end_time": "2022-10-14T14:30:56.278741",
     "exception": false,
     "start_time": "2022-10-14T14:30:55.331219",
     "status": "completed"
    },
    "tags": []
   },
   "outputs": [
    {
     "name": "stdout",
     "output_type": "stream",
     "text": [
      "<class 'torch.Tensor'> torch.Size([1, 1, 28, 28])\n"
     ]
    }
   ],
   "source": [
    "# データセットクラスで定義したラベル（0－7）それぞれに対応するインデックスを取得できる\n",
    "# PML offeres some utils function. You can get the data separated by labels.\n",
    "labels_to_indices = c_f.get_labels_to_indices(test_dataset.labels)\n",
    "# 試しにラベル3、ラベル６のインデックス集合をそれぞれ取得する\n",
    "# For example, let's get the data with label 3 & 6\n",
    "classA, classB = labels_to_indices[3], labels_to_indices[6]\n",
    "img_type = classA   # ラベル3に対応するインデックスの集合(Data with label '3')\n",
    "\n",
    "# 検索実行 Let's retrieve!\n",
    "img, label = test_dataset[img_type[2]][0].unsqueeze(0), test_dataset[img_type[2]][1]\n",
    "print(type(img), img.shape)\n",
    "\n",
    "top_k = 10\n",
    "distances, indices = inference_model.get_nearest_neighbors(img, k=top_k)\n",
    "distances_list = list(distances.cpu().numpy()[0])\n",
    "indices_list = list(indices.cpu().numpy()[0])"
   ]
  },
  {
   "cell_type": "code",
   "execution_count": 21,
   "id": "a74c5a4e",
   "metadata": {
    "execution": {
     "iopub.execute_input": "2022-10-14T14:30:58.293645Z",
     "iopub.status.busy": "2022-10-14T14:30:58.292681Z",
     "iopub.status.idle": "2022-10-14T14:31:00.103133Z",
     "shell.execute_reply": "2022-10-14T14:31:00.102194Z"
    },
    "papermill": {
     "duration": 2.735127,
     "end_time": "2022-10-14T14:31:00.105314",
     "exception": false,
     "start_time": "2022-10-14T14:30:57.370187",
     "status": "completed"
    },
    "tags": []
   },
   "outputs": [
    {
     "name": "stdout",
     "output_type": "stream",
     "text": [
      "top'10' index:  [2, 3919, 4407, 1830, 2309, 4720, 2360, 4083, 4775, 18]\n"
     ]
    },
    {
     "data": {
      "text/html": [
       "<div>\n",
       "<style scoped>\n",
       "    .dataframe tbody tr th:only-of-type {\n",
       "        vertical-align: middle;\n",
       "    }\n",
       "\n",
       "    .dataframe tbody tr th {\n",
       "        vertical-align: top;\n",
       "    }\n",
       "\n",
       "    .dataframe thead th {\n",
       "        text-align: right;\n",
       "    }\n",
       "</style>\n",
       "<table border=\"1\" class=\"dataframe\">\n",
       "  <thead>\n",
       "    <tr style=\"text-align: right;\">\n",
       "      <th></th>\n",
       "      <th>index</th>\n",
       "      <th>waferMap</th>\n",
       "      <th>dieSize</th>\n",
       "      <th>lotName</th>\n",
       "      <th>waferIndex</th>\n",
       "      <th>trianTestLabel</th>\n",
       "      <th>failureType</th>\n",
       "      <th>encoded_labels</th>\n",
       "    </tr>\n",
       "  </thead>\n",
       "  <tbody>\n",
       "    <tr>\n",
       "      <th>2</th>\n",
       "      <td>2</td>\n",
       "      <td>[[[0], [0], [0], [0], [0], [0], [0], [0], [0],...</td>\n",
       "      <td>1658.0</td>\n",
       "      <td>lot19814</td>\n",
       "      <td>13.0</td>\n",
       "      <td>Training</td>\n",
       "      <td>Edge-Ring</td>\n",
       "      <td>3</td>\n",
       "    </tr>\n",
       "    <tr>\n",
       "      <th>3919</th>\n",
       "      <td>3919</td>\n",
       "      <td>[[[0], [0], [0], [0], [0], [0], [0], [0], [0],...</td>\n",
       "      <td>1658.0</td>\n",
       "      <td>lot19814</td>\n",
       "      <td>14.0</td>\n",
       "      <td>Training</td>\n",
       "      <td>Edge-Ring</td>\n",
       "      <td>3</td>\n",
       "    </tr>\n",
       "    <tr>\n",
       "      <th>4407</th>\n",
       "      <td>4407</td>\n",
       "      <td>[[[0], [0], [0], [0], [0], [0], [0], [0], [0],...</td>\n",
       "      <td>1075.0</td>\n",
       "      <td>lot44162</td>\n",
       "      <td>16.0</td>\n",
       "      <td>Test</td>\n",
       "      <td>Edge-Ring</td>\n",
       "      <td>3</td>\n",
       "    </tr>\n",
       "    <tr>\n",
       "      <th>1830</th>\n",
       "      <td>1830</td>\n",
       "      <td>[[[0], [0], [0], [0], [0], [0], [0], [0], [0],...</td>\n",
       "      <td>1291.0</td>\n",
       "      <td>lot11987</td>\n",
       "      <td>25.0</td>\n",
       "      <td>Training</td>\n",
       "      <td>Edge-Ring</td>\n",
       "      <td>3</td>\n",
       "    </tr>\n",
       "    <tr>\n",
       "      <th>2309</th>\n",
       "      <td>2309</td>\n",
       "      <td>[[[0], [0], [0], [0], [0], [0], [0], [0], [0],...</td>\n",
       "      <td>1075.0</td>\n",
       "      <td>lot2503</td>\n",
       "      <td>4.0</td>\n",
       "      <td>Training</td>\n",
       "      <td>Edge-Ring</td>\n",
       "      <td>3</td>\n",
       "    </tr>\n",
       "    <tr>\n",
       "      <th>4720</th>\n",
       "      <td>4720</td>\n",
       "      <td>[[[0], [0], [0], [0], [0], [0], [0], [0], [0],...</td>\n",
       "      <td>1658.0</td>\n",
       "      <td>lot19814</td>\n",
       "      <td>21.0</td>\n",
       "      <td>Training</td>\n",
       "      <td>Edge-Ring</td>\n",
       "      <td>3</td>\n",
       "    </tr>\n",
       "    <tr>\n",
       "      <th>2360</th>\n",
       "      <td>2360</td>\n",
       "      <td>[[[0], [0], [0], [0], [0], [0], [0], [0], [0],...</td>\n",
       "      <td>1658.0</td>\n",
       "      <td>lot18375</td>\n",
       "      <td>8.0</td>\n",
       "      <td>Training</td>\n",
       "      <td>Edge-Ring</td>\n",
       "      <td>3</td>\n",
       "    </tr>\n",
       "    <tr>\n",
       "      <th>4083</th>\n",
       "      <td>4083</td>\n",
       "      <td>[[[0], [0], [0], [0], [0], [0], [0], [0], [0],...</td>\n",
       "      <td>1999.0</td>\n",
       "      <td>lot15009</td>\n",
       "      <td>2.0</td>\n",
       "      <td>Training</td>\n",
       "      <td>Edge-Ring</td>\n",
       "      <td>3</td>\n",
       "    </tr>\n",
       "    <tr>\n",
       "      <th>4775</th>\n",
       "      <td>4775</td>\n",
       "      <td>[[[0], [0], [0], [0], [0], [0], [0], [0], [0],...</td>\n",
       "      <td>1658.0</td>\n",
       "      <td>lot16606</td>\n",
       "      <td>20.0</td>\n",
       "      <td>Training</td>\n",
       "      <td>Edge-Ring</td>\n",
       "      <td>3</td>\n",
       "    </tr>\n",
       "    <tr>\n",
       "      <th>18</th>\n",
       "      <td>18</td>\n",
       "      <td>[[[0], [0], [0], [0], [0], [0], [0], [0], [0],...</td>\n",
       "      <td>1658.0</td>\n",
       "      <td>lot16600</td>\n",
       "      <td>16.0</td>\n",
       "      <td>Training</td>\n",
       "      <td>Edge-Ring</td>\n",
       "      <td>3</td>\n",
       "    </tr>\n",
       "  </tbody>\n",
       "</table>\n",
       "</div>"
      ],
      "text/plain": [
       "      index                                           waferMap  dieSize  \\\n",
       "2         2  [[[0], [0], [0], [0], [0], [0], [0], [0], [0],...   1658.0   \n",
       "3919   3919  [[[0], [0], [0], [0], [0], [0], [0], [0], [0],...   1658.0   \n",
       "4407   4407  [[[0], [0], [0], [0], [0], [0], [0], [0], [0],...   1075.0   \n",
       "1830   1830  [[[0], [0], [0], [0], [0], [0], [0], [0], [0],...   1291.0   \n",
       "2309   2309  [[[0], [0], [0], [0], [0], [0], [0], [0], [0],...   1075.0   \n",
       "4720   4720  [[[0], [0], [0], [0], [0], [0], [0], [0], [0],...   1658.0   \n",
       "2360   2360  [[[0], [0], [0], [0], [0], [0], [0], [0], [0],...   1658.0   \n",
       "4083   4083  [[[0], [0], [0], [0], [0], [0], [0], [0], [0],...   1999.0   \n",
       "4775   4775  [[[0], [0], [0], [0], [0], [0], [0], [0], [0],...   1658.0   \n",
       "18       18  [[[0], [0], [0], [0], [0], [0], [0], [0], [0],...   1658.0   \n",
       "\n",
       "       lotName  waferIndex trianTestLabel failureType  encoded_labels  \n",
       "2     lot19814        13.0       Training   Edge-Ring               3  \n",
       "3919  lot19814        14.0       Training   Edge-Ring               3  \n",
       "4407  lot44162        16.0           Test   Edge-Ring               3  \n",
       "1830  lot11987        25.0       Training   Edge-Ring               3  \n",
       "2309   lot2503         4.0       Training   Edge-Ring               3  \n",
       "4720  lot19814        21.0       Training   Edge-Ring               3  \n",
       "2360  lot18375         8.0       Training   Edge-Ring               3  \n",
       "4083  lot15009         2.0       Training   Edge-Ring               3  \n",
       "4775  lot16606        20.0       Training   Edge-Ring               3  \n",
       "18    lot16600        16.0       Training   Edge-Ring               3  "
      ]
     },
     "execution_count": 21,
     "metadata": {},
     "output_type": "execute_result"
    }
   ],
   "source": [
    "print(f\"top'{top_k}' index: \", indices_list)\n",
    "df_result = test_dataset.df.iloc[indices_list, :]\n",
    "df_result.head(10)"
   ]
  },
  {
   "cell_type": "markdown",
   "id": "9d948395",
   "metadata": {
    "papermill": {
     "duration": 0.928233,
     "end_time": "2022-10-14T14:31:01.958882",
     "exception": false,
     "start_time": "2022-10-14T14:31:01.030649",
     "status": "completed"
    },
    "tags": []
   },
   "source": [
    "# Experiment Results, 実験結果\n",
    "先ほどやったことを視覚化しながら再度実行してみる\n",
    "- Comparison of query image and retrieved ones\n",
    "- Visualize the embedding space(On kaggle notebook, it doesn't work. You can download it and try on the other environment)"
   ]
  },
  {
   "cell_type": "code",
   "execution_count": 22,
   "id": "5061f03a",
   "metadata": {
    "execution": {
     "iopub.execute_input": "2022-10-14T14:31:03.746394Z",
     "iopub.status.busy": "2022-10-14T14:31:03.745969Z",
     "iopub.status.idle": "2022-10-14T14:31:06.726218Z",
     "shell.execute_reply": "2022-10-14T14:31:06.725274Z"
    },
    "papermill": {
     "duration": 3.903777,
     "end_time": "2022-10-14T14:31:06.728436",
     "exception": false,
     "start_time": "2022-10-14T14:31:02.824659",
     "status": "completed"
    },
    "tags": []
   },
   "outputs": [
    {
     "name": "stdout",
     "output_type": "stream",
     "text": [
      "Before preprocess:  <class 'numpy.ndarray'> (28, 28, 1)\n",
      "After preprocess:  <class 'torch.Tensor'> torch.Size([1, 1, 28, 28])\n",
      "top'10' index:  [4224, 1809, 2062, 1560, 4512, 4031, 3913, 468, 374, 2111]\n"
     ]
    },
    {
     "data": {
      "text/html": [
       "<div>\n",
       "<style scoped>\n",
       "    .dataframe tbody tr th:only-of-type {\n",
       "        vertical-align: middle;\n",
       "    }\n",
       "\n",
       "    .dataframe tbody tr th {\n",
       "        vertical-align: top;\n",
       "    }\n",
       "\n",
       "    .dataframe thead th {\n",
       "        text-align: right;\n",
       "    }\n",
       "</style>\n",
       "<table border=\"1\" class=\"dataframe\">\n",
       "  <thead>\n",
       "    <tr style=\"text-align: right;\">\n",
       "      <th></th>\n",
       "      <th>index</th>\n",
       "      <th>waferMap</th>\n",
       "      <th>dieSize</th>\n",
       "      <th>lotName</th>\n",
       "      <th>waferIndex</th>\n",
       "      <th>trianTestLabel</th>\n",
       "      <th>failureType</th>\n",
       "      <th>encoded_labels</th>\n",
       "    </tr>\n",
       "  </thead>\n",
       "  <tbody>\n",
       "    <tr>\n",
       "      <th>0</th>\n",
       "      <td>4224</td>\n",
       "      <td>[[[0], [0], [0], [0], [0], [0], [0], [0], [0],...</td>\n",
       "      <td>1513.0</td>\n",
       "      <td>lot29454</td>\n",
       "      <td>11.0</td>\n",
       "      <td>Training</td>\n",
       "      <td>Scratch</td>\n",
       "      <td>4</td>\n",
       "    </tr>\n",
       "    <tr>\n",
       "      <th>1</th>\n",
       "      <td>1809</td>\n",
       "      <td>[[[0], [0], [0], [0], [0], [0], [0], [0], [0],...</td>\n",
       "      <td>986.0</td>\n",
       "      <td>lot11553</td>\n",
       "      <td>18.0</td>\n",
       "      <td>Training</td>\n",
       "      <td>Loc</td>\n",
       "      <td>0</td>\n",
       "    </tr>\n",
       "    <tr>\n",
       "      <th>2</th>\n",
       "      <td>2062</td>\n",
       "      <td>[[[0], [0], [0], [0], [0], [0], [0], [0], [0],...</td>\n",
       "      <td>776.0</td>\n",
       "      <td>lot40876</td>\n",
       "      <td>10.0</td>\n",
       "      <td>Test</td>\n",
       "      <td>Loc</td>\n",
       "      <td>0</td>\n",
       "    </tr>\n",
       "    <tr>\n",
       "      <th>3</th>\n",
       "      <td>1560</td>\n",
       "      <td>[[[0], [0], [0], [0], [0], [0], [0], [0], [0],...</td>\n",
       "      <td>1060.0</td>\n",
       "      <td>lot47458</td>\n",
       "      <td>11.0</td>\n",
       "      <td>Test</td>\n",
       "      <td>Loc</td>\n",
       "      <td>0</td>\n",
       "    </tr>\n",
       "    <tr>\n",
       "      <th>4</th>\n",
       "      <td>4512</td>\n",
       "      <td>[[[0], [0], [0], [0], [0], [0], [0], [0], [0],...</td>\n",
       "      <td>1800.0</td>\n",
       "      <td>lot6452</td>\n",
       "      <td>13.0</td>\n",
       "      <td>Training</td>\n",
       "      <td>Loc</td>\n",
       "      <td>0</td>\n",
       "    </tr>\n",
       "    <tr>\n",
       "      <th>5</th>\n",
       "      <td>4031</td>\n",
       "      <td>[[[0], [0], [0], [0], [0], [0], [0], [0], [0],...</td>\n",
       "      <td>518.0</td>\n",
       "      <td>lot43980</td>\n",
       "      <td>10.0</td>\n",
       "      <td>Test</td>\n",
       "      <td>Loc</td>\n",
       "      <td>0</td>\n",
       "    </tr>\n",
       "    <tr>\n",
       "      <th>6</th>\n",
       "      <td>3913</td>\n",
       "      <td>[[[0], [0], [0], [0], [0], [0], [0], [0], [0],...</td>\n",
       "      <td>562.0</td>\n",
       "      <td>lot46741</td>\n",
       "      <td>6.0</td>\n",
       "      <td>Test</td>\n",
       "      <td>Loc</td>\n",
       "      <td>0</td>\n",
       "    </tr>\n",
       "    <tr>\n",
       "      <th>7</th>\n",
       "      <td>468</td>\n",
       "      <td>[[[0], [0], [0], [0], [0], [0], [0], [0], [0],...</td>\n",
       "      <td>1129.0</td>\n",
       "      <td>lot42620</td>\n",
       "      <td>20.0</td>\n",
       "      <td>Test</td>\n",
       "      <td>Loc</td>\n",
       "      <td>0</td>\n",
       "    </tr>\n",
       "    <tr>\n",
       "      <th>8</th>\n",
       "      <td>374</td>\n",
       "      <td>[[[0], [0], [0], [0], [0], [0], [0], [0], [0],...</td>\n",
       "      <td>1256.0</td>\n",
       "      <td>lot43809</td>\n",
       "      <td>18.0</td>\n",
       "      <td>Test</td>\n",
       "      <td>Loc</td>\n",
       "      <td>0</td>\n",
       "    </tr>\n",
       "    <tr>\n",
       "      <th>9</th>\n",
       "      <td>2111</td>\n",
       "      <td>[[[0], [0], [0], [0], [0], [0], [0], [0], [0],...</td>\n",
       "      <td>1485.0</td>\n",
       "      <td>lot43671</td>\n",
       "      <td>19.0</td>\n",
       "      <td>Test</td>\n",
       "      <td>Loc</td>\n",
       "      <td>0</td>\n",
       "    </tr>\n",
       "  </tbody>\n",
       "</table>\n",
       "</div>"
      ],
      "text/plain": [
       "   index                                           waferMap  dieSize  \\\n",
       "0   4224  [[[0], [0], [0], [0], [0], [0], [0], [0], [0],...   1513.0   \n",
       "1   1809  [[[0], [0], [0], [0], [0], [0], [0], [0], [0],...    986.0   \n",
       "2   2062  [[[0], [0], [0], [0], [0], [0], [0], [0], [0],...    776.0   \n",
       "3   1560  [[[0], [0], [0], [0], [0], [0], [0], [0], [0],...   1060.0   \n",
       "4   4512  [[[0], [0], [0], [0], [0], [0], [0], [0], [0],...   1800.0   \n",
       "5   4031  [[[0], [0], [0], [0], [0], [0], [0], [0], [0],...    518.0   \n",
       "6   3913  [[[0], [0], [0], [0], [0], [0], [0], [0], [0],...    562.0   \n",
       "7    468  [[[0], [0], [0], [0], [0], [0], [0], [0], [0],...   1129.0   \n",
       "8    374  [[[0], [0], [0], [0], [0], [0], [0], [0], [0],...   1256.0   \n",
       "9   2111  [[[0], [0], [0], [0], [0], [0], [0], [0], [0],...   1485.0   \n",
       "\n",
       "    lotName  waferIndex trianTestLabel failureType  encoded_labels  \n",
       "0  lot29454        11.0       Training     Scratch               4  \n",
       "1  lot11553        18.0       Training         Loc               0  \n",
       "2  lot40876        10.0           Test         Loc               0  \n",
       "3  lot47458        11.0           Test         Loc               0  \n",
       "4   lot6452        13.0       Training         Loc               0  \n",
       "5  lot43980        10.0           Test         Loc               0  \n",
       "6  lot46741         6.0           Test         Loc               0  \n",
       "7  lot42620        20.0           Test         Loc               0  \n",
       "8  lot43809        18.0           Test         Loc               0  \n",
       "9  lot43671        19.0           Test         Loc               0  "
      ]
     },
     "metadata": {},
     "output_type": "display_data"
    },
    {
     "data": {
      "image/png": "[encoded data removed]",
      "text/plain": [
       "<Figure size 432x288 with 1 Axes>"
      ]
     },
     "metadata": {
      "needs_background": "light"
     },
     "output_type": "display_data"
    },
    {
     "data": {
      "image/png": "[encoded data removed]",
      "text/plain": [
       "<Figure size 1152x1152 with 10 Axes>"
      ]
     },
     "metadata": {
      "needs_background": "light"
     },
     "output_type": "display_data"
    }
   ],
   "source": [
    "# クエリ情報の抜出 (ラベル１のデータを抜き出し、とりあえず最初の行にあるものをクエリとしてみる)\n",
    "encoded_label = 4  # 自由に変えてトライ, Let's change.\n",
    "df_tmp = test_dataset.df.query(f\"encoded_labels=={encoded_label}\").reset_index()\n",
    "query, query_label = df_tmp[\"waferMap\"][0], df_tmp[\"encoded_labels\"][0]\n",
    "print(\"Before preprocess: \", type(query), query.shape) # この時点ではnumpy.ndarrayになっている\n",
    "plt.imshow(query)\n",
    "plt.title(f\"Query image: {idx2class[query_label]}\")\n",
    "\n",
    "\n",
    "# クエリ画像をモデルに入力するためのtorch用前処理\n",
    "query = query.transpose(2,0,1) # shape:(a,b,c) → (c,a,b)\n",
    "query = torch.from_numpy(query).float()\n",
    "query = query.unsqueeze(0) # shape:(a,b,c) → (1,a,b,c) のように1を追加。PyTorchのお作法（バッチ次元）\n",
    "print(\"After preprocess: \", type(query), query.shape) # この時点ではtorch.Tensorになっている\n",
    "assert isinstance(query, torch.Tensor)\n",
    "\n",
    "# Search! 実験（検索実行！）\n",
    "top_k = 10\n",
    "distances, indices = inference_model.get_nearest_neighbors(query, k=top_k)\n",
    "distances_list = list(distances.cpu().numpy()[0])\n",
    "indices_list = list(indices.cpu().numpy()[0])\n",
    "\n",
    "print(f\"top'{top_k}' index: \", indices_list)\n",
    "df_result = test_dataset.df.iloc[indices_list, :].reset_index(drop=True)\n",
    "\n",
    "\n",
    "# Visualize results. 結果表示\n",
    "display(df_result.head(10))\n",
    "plt.figure(figsize=(16,16))\n",
    "for i in range(top_k):\n",
    "    ax = plt.subplot(8, 6, i+1)\n",
    "    ax.axis(\"off\")\n",
    "    ax.imshow(df_result[\"waferMap\"][i])\n",
    "    ax.set_title(f'{idx2class[df_result[\"encoded_labels\"][i]]}-{str(df_result[\"encoded_labels\"][i])}', \n",
    "                 fontsize=8,\n",
    "                )\n",
    "plt.tight_layout()\n",
    "plt.show()"
   ]
  },
  {
   "cell_type": "markdown",
   "id": "f446e6ac",
   "metadata": {
    "papermill": {
     "duration": 1.31422,
     "end_time": "2022-10-14T14:31:09.074195",
     "exception": false,
     "start_time": "2022-10-14T14:31:07.759975",
     "status": "completed"
    },
    "tags": []
   },
   "source": [
    "# 以上,結果のまとめと今後とるべき対策\n",
    "- クエリに対して画像の検索を実施した\n",
    "- クエリに対して検索上位に出てきたものは似てるものだけではなかった。\n",
    "    * 学習器を変える\n",
    "    * 画像毎のサイズ違いに注意する\n",
    "    * augmentationする\n",
    "\n",
    "## 発展的知識\n",
    "- プロダクション上では一般に検索DBが大きくなりやすい（桁違いに大きくなる）\n",
    "- クエリの特徴量抽出は特徴抽出器のサイズ依存だが、検索は「検索手法依存」となる\n",
    "- 検索には一定の高速性が求められるため、「検索手法」の工夫が世の中にはたくさんある\n",
    "    * 全探索手法\n",
    "    * 最近傍探索手法\n",
    "    * 近似最近傍探索手法\n",
    "    * 様々な後処理手法（検索結果を出したのち、その中で再度何かしら計算を行い精度を高める）\n",
    "- 画像検索は「クエリと似たものは何か？」を探すタスクであり、学習時にないデータを推論する（=検索する）ことに使う\n",
    "- metric learningは学習データの**相対的な位置関係**をロス関数にして学習しており、顔認証や画像検索タスクに用いられることで知られる（世の中のどのシステムに具体的に導入されてるかは把握してません）\n",
    "- 画像検索コンペの最上位でもmetric learningは未だに使用されており、工夫はいるが強力な手法である"
   ]
  },
  {
   "cell_type": "code",
   "execution_count": null,
   "id": "69bdb1c8",
   "metadata": {
    "papermill": {
     "duration": 0.910248,
     "end_time": "2022-10-14T14:31:11.047031",
     "exception": false,
     "start_time": "2022-10-14T14:31:10.136783",
     "status": "completed"
    },
    "tags": []
   },
   "outputs": [],
   "source": []
  },
  {
   "cell_type": "code",
   "execution_count": null,
   "id": "0a22cbb0",
   "metadata": {
    "papermill": {
     "duration": 0.915892,
     "end_time": "2022-10-14T14:31:12.902348",
     "exception": false,
     "start_time": "2022-10-14T14:31:11.986456",
     "status": "completed"
    },
    "tags": []
   },
   "outputs": [],
   "source": []
  },
  {
   "cell_type": "markdown",
   "id": "f29c1810",
   "metadata": {
    "papermill": {
     "duration": 0.925387,
     "end_time": "2022-10-14T14:31:14.692375",
     "exception": false,
     "start_time": "2022-10-14T14:31:13.766988",
     "status": "completed"
    },
    "tags": []
   },
   "source": [
    "# 以下、ちょっとわからないこと出たのでやりません。機能だけ紹介します。\n",
    "\n",
    "再度掲載- クラスと対応番号\n",
    "```\n",
    "class2idx = {\n",
    "    'Loc': 0,\n",
    "    'Edge-Loc': 1,\n",
    "    'Center': 2,\n",
    "    'Edge-Ring': 3, \n",
    "    'Scratch': 4,\n",
    "    'Random': 5, \n",
    "    'Near-full': 6,\n",
    "    'Donut': 7\n",
    "}\n",
    "```"
   ]
  },
  {
   "cell_type": "code",
   "execution_count": 23,
   "id": "9bf888db",
   "metadata": {
    "execution": {
     "iopub.execute_input": "2022-10-14T14:31:16.520884Z",
     "iopub.status.busy": "2022-10-14T14:31:16.519828Z",
     "iopub.status.idle": "2022-10-14T14:31:16.532652Z",
     "shell.execute_reply": "2022-10-14T14:31:16.531225Z"
    },
    "papermill": {
     "duration": 0.931539,
     "end_time": "2022-10-14T14:31:16.534676",
     "exception": false,
     "start_time": "2022-10-14T14:31:15.603137",
     "status": "completed"
    },
    "tags": []
   },
   "outputs": [
    {
     "name": "stdout",
     "output_type": "stream",
     "text": [
      "<class 'torch.Tensor'> torch.Size([1, 1, 28, 28])\n",
      "[    1     6     8 ... 14286 14287 14288]\n"
     ]
    }
   ],
   "source": [
    "# データセットクラスで定義したラベル（0－7）それぞれに対応するインデックスを取得できる\n",
    "labels_to_indices = c_f.get_labels_to_indices(train_dataset.labels)\n",
    "# 試しにラベル１、ラベル６のインデックス集合をそれぞれ取得する\n",
    "classA, classB = labels_to_indices[3], labels_to_indices[9]\n",
    "img_type = classA   # ラベル3に対応するインデックスの集合\n",
    "\n",
    "# 検索実行\n",
    "img, label = test_dataset[img_type[2]][0].unsqueeze(0), test_dataset[img_type[2]][1]\n",
    "print(type(img), img.shape)\n",
    "# distances, indices = inference_model.get_nearest_neighbors(img, k=10)\n",
    "\n",
    "print(classA)"
   ]
  },
  {
   "cell_type": "code",
   "execution_count": 24,
   "id": "55b2bf3d",
   "metadata": {
    "execution": {
     "iopub.execute_input": "2022-10-14T14:31:18.321906Z",
     "iopub.status.busy": "2022-10-14T14:31:18.321542Z",
     "iopub.status.idle": "2022-10-14T14:31:18.327322Z",
     "shell.execute_reply": "2022-10-14T14:31:18.326354Z"
    },
    "papermill": {
     "duration": 0.927642,
     "end_time": "2022-10-14T14:31:18.329922",
     "exception": false,
     "start_time": "2022-10-14T14:31:17.402280",
     "status": "completed"
    },
    "tags": []
   },
   "outputs": [
    {
     "name": "stdout",
     "output_type": "stream",
     "text": [
      "[[4224 1809 2062 1560 4512 4031 3913  468  374 2111]]\n",
      "(10,)\n"
     ]
    }
   ],
   "source": [
    "print(indices.cpu().numpy())\n",
    "print(indices.cpu().numpy()[0].shape)"
   ]
  },
  {
   "cell_type": "code",
   "execution_count": 25,
   "id": "dde42ef3",
   "metadata": {
    "execution": {
     "iopub.execute_input": "2022-10-14T14:31:20.397956Z",
     "iopub.status.busy": "2022-10-14T14:31:20.397593Z",
     "iopub.status.idle": "2022-10-14T14:31:20.599768Z",
     "shell.execute_reply": "2022-10-14T14:31:20.598859Z"
    },
    "papermill": {
     "duration": 1.127757,
     "end_time": "2022-10-14T14:31:20.601738",
     "exception": false,
     "start_time": "2022-10-14T14:31:19.473981",
     "status": "completed"
    },
    "tags": []
   },
   "outputs": [
    {
     "name": "stdout",
     "output_type": "stream",
     "text": [
      "torch.Size([1, 28, 28]) torch.Size([1, 28, 28])\n"
     ]
    },
    {
     "data": {
      "image/png": "[encoded data removed]",
      "text/plain": [
       "<Figure size 576x288 with 1 Axes>"
      ]
     },
     "metadata": {
      "needs_background": "light"
     },
     "output_type": "display_data"
    },
    {
     "name": "stdout",
     "output_type": "stream",
     "text": [
      "Different class\n"
     ]
    }
   ],
   "source": [
    "def print_decision(is_match):\n",
    "    if is_match:\n",
    "        print(\"Same class\")\n",
    "    else:\n",
    "        print(\"Different class\")\n",
    "\n",
    "# mean = [0.485, 0.456, 0.406]\n",
    "# std = [0.229, 0.224, 0.225]\n",
    "\n",
    "# inv_normalize = transforms.Normalize(\n",
    "#     mean=[-m / s for m, s in zip(mean, std)], std=[1 / s for s in std]\n",
    "# )\n",
    "def imshow(img, title=None, figsize=(8, 4)):\n",
    "    # img = inv_normalize(img)\n",
    "    npimg = img.numpy()\n",
    "    plt.figure(figsize=figsize)\n",
    "    plt.imshow(np.transpose(npimg, (1, 2, 0))[:,:,0])\n",
    "    plt.title(title)\n",
    "    plt.show()\n",
    "\n",
    "# compare two images of the same class\n",
    "(x, _), (y, _) = test_dataset[classA[0]], test_dataset[classA[1]]\n",
    "print(x.shape, y.shape)\n",
    "decision = inference_model.is_match(x.unsqueeze(0), y.unsqueeze(0))\n",
    "stack_image = torch.stack([x, y], dim=0)  # double torch.Size([20, 1, 28, 28]) -> torch.Size([2, 20, 1, 28, 28])\n",
    "imshow(torchvision.utils.make_grid(stack_image), title=decision)\n",
    "print_decision(decision)"
   ]
  },
  {
   "cell_type": "code",
   "execution_count": null,
   "id": "61ee38a7",
   "metadata": {
    "papermill": {
     "duration": 0.909053,
     "end_time": "2022-10-14T14:31:22.380943",
     "exception": false,
     "start_time": "2022-10-14T14:31:21.471890",
     "status": "completed"
    },
    "tags": []
   },
   "outputs": [],
   "source": []
  }
 ],
 "metadata": {
  "kernelspec": {
   "display_name": "Python 3",
   "language": "python",
   "name": "python3"
  },
  "language_info": {
   "codemirror_mode": {
    "name": "ipython",
    "version": 3
   },
   "file_extension": ".py",
   "mimetype": "text/x-python",
   "name": "python",
   "nbconvert_exporter": "python",
   "pygments_lexer": "ipython3",
   "version": "3.7.12"
  },
  "papermill": {
   "default_parameters": {},
   "duration": 481.806053,
   "end_time": "2022-10-14T14:31:26.239905",
   "environment_variables": {},
   "exception": null,
   "input_path": "__notebook__.ipynb",
   "output_path": "__notebook__.ipynb",
   "parameters": {},
   "start_time": "2022-10-14T14:23:24.433852",
   "version": "2.3.4"
  }
 },
 "nbformat": 4,
 "nbformat_minor": 5
}
